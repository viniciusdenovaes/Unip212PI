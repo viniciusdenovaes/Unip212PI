{
 "cells": [
  {
   "cell_type": "code",
   "execution_count": 25,
   "source": [
    "import numpy as np\n",
    "import pandas as pd\n",
    "import matplotlib.pyplot as plt\n",
    "import matplotlib.image as im\n",
    "import os"
   ],
   "outputs": [],
   "metadata": {}
  },
  {
   "cell_type": "code",
   "execution_count": 14,
   "source": [
    "matriz_colorida = im.imread('../imagens/cores3x2.png')"
   ],
   "outputs": [],
   "metadata": {}
  },
  {
   "cell_type": "code",
   "execution_count": 15,
   "source": [
    "matriz_colorida"
   ],
   "outputs": [
    {
     "output_type": "execute_result",
     "data": {
      "text/plain": [
       "array([[[1.       , 0.       , 0.       ],\n",
       "        [0.       , 1.       , 0.5019608],\n",
       "        [0.       , 1.       , 0.       ]],\n",
       "\n",
       "       [[0.       , 0.       , 1.       ],\n",
       "        [1.       , 1.       , 1.       ],\n",
       "        [0.       , 0.       , 0.       ]]], dtype=float32)"
      ]
     },
     "metadata": {},
     "execution_count": 15
    }
   ],
   "metadata": {}
  },
  {
   "cell_type": "code",
   "execution_count": 16,
   "source": [
    "matriz_colorida.shape"
   ],
   "outputs": [
    {
     "output_type": "execute_result",
     "data": {
      "text/plain": [
       "(2, 3, 3)"
      ]
     },
     "metadata": {},
     "execution_count": 16
    }
   ],
   "metadata": {}
  },
  {
   "cell_type": "code",
   "execution_count": 17,
   "source": [
    "altura, largura, canais_de_cores = matriz_colorida.shape"
   ],
   "outputs": [],
   "metadata": {}
  },
  {
   "cell_type": "code",
   "execution_count": 40,
   "source": [
    "str_matrix = r''\n",
    "nl = '\\n'\n",
    "for ia in range(altura):\n",
    "    str_matrix += f'{os.linesep}'\n",
    "    for il in range(largura):\n",
    "        str_matrix += ' | '\n",
    "        for cor in range(canais_de_cores):\n",
    "            str_matrix += f'cor{cor}:{matriz_colorida[ia, il, cor]:.2f} '"
   ],
   "outputs": [],
   "metadata": {}
  },
  {
   "cell_type": "code",
   "execution_count": 41,
   "source": [
    "print(str_matrix)"
   ],
   "outputs": [
    {
     "output_type": "stream",
     "name": "stdout",
     "text": [
      "\n",
      " | cor0:1.00 cor1:0.00 cor2:0.00  | cor0:0.00 cor1:1.00 cor2:0.50  | cor0:0.00 cor1:1.00 cor2:0.00 \n",
      " | cor0:0.00 cor1:0.00 cor2:1.00  | cor0:1.00 cor1:1.00 cor2:1.00  | cor0:0.00 cor1:0.00 cor2:0.00 \n"
     ]
    }
   ],
   "metadata": {}
  },
  {
   "cell_type": "code",
   "execution_count": null,
   "source": [],
   "outputs": [],
   "metadata": {}
  }
 ],
 "metadata": {
  "orig_nbformat": 4,
  "language_info": {
   "name": "python",
   "version": "3.8.10",
   "mimetype": "text/x-python",
   "codemirror_mode": {
    "name": "ipython",
    "version": 3
   },
   "pygments_lexer": "ipython3",
   "nbconvert_exporter": "python",
   "file_extension": ".py"
  },
  "kernelspec": {
   "name": "python3",
   "display_name": "Python 3.8.10 64-bit ('venv': venv)"
  },
  "interpreter": {
   "hash": "4ee28960fd301da3bfc588f1199024a65f58b9b323d1231c4abb8189d15b905b"
  }
 },
 "nbformat": 4,
 "nbformat_minor": 2
}