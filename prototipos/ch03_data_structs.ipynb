{
 "cells": [
  {
   "cell_type": "markdown",
   "id": "205c71aa",
   "metadata": {},
   "source": [
    "# Estruturas de dados"
   ]
  },
  {
   "cell_type": "markdown",
   "id": "9ade21a0",
   "metadata": {},
   "source": [
    "## Tuplas"
   ]
  },
  {
   "cell_type": "code",
   "execution_count": 1,
   "id": "7f0f2330",
   "metadata": {},
   "outputs": [],
   "source": [
    "tupla_a = (4, 5, 6)"
   ]
  },
  {
   "cell_type": "code",
   "execution_count": 2,
   "id": "d50a1815",
   "metadata": {},
   "outputs": [],
   "source": [
    "tupla_b = 4, 5, 6"
   ]
  },
  {
   "cell_type": "code",
   "execution_count": 3,
   "id": "ba183f8b",
   "metadata": {},
   "outputs": [
    {
     "data": {
      "text/plain": [
       "(4, 5, 6)"
      ]
     },
     "execution_count": 3,
     "metadata": {},
     "output_type": "execute_result"
    }
   ],
   "source": [
    "tupla_a"
   ]
  },
  {
   "cell_type": "code",
   "execution_count": 4,
   "id": "4a9b6932",
   "metadata": {},
   "outputs": [
    {
     "data": {
      "text/plain": [
       "(4, 5, 6)"
      ]
     },
     "execution_count": 4,
     "metadata": {},
     "output_type": "execute_result"
    }
   ],
   "source": [
    "tupla_b"
   ]
  },
  {
   "cell_type": "code",
   "execution_count": 5,
   "id": "350d39ec",
   "metadata": {},
   "outputs": [
    {
     "data": {
      "text/plain": [
       "True"
      ]
     },
     "execution_count": 5,
     "metadata": {},
     "output_type": "execute_result"
    }
   ],
   "source": [
    "tupla_a == tupla_b"
   ]
  },
  {
   "cell_type": "code",
   "execution_count": 6,
   "id": "4475c0f7",
   "metadata": {},
   "outputs": [
    {
     "data": {
      "text/plain": [
       "(4, 5, 6, 4)"
      ]
     },
     "execution_count": 6,
     "metadata": {},
     "output_type": "execute_result"
    }
   ],
   "source": [
    "tupla_b + (4, )"
   ]
  },
  {
   "cell_type": "code",
   "execution_count": 7,
   "id": "40030557",
   "metadata": {},
   "outputs": [
    {
     "data": {
      "text/plain": [
       "False"
      ]
     },
     "execution_count": 7,
     "metadata": {},
     "output_type": "execute_result"
    }
   ],
   "source": [
    "tupla_b < tupla_a"
   ]
  },
  {
   "cell_type": "code",
   "execution_count": 8,
   "id": "779a40d7",
   "metadata": {},
   "outputs": [
    {
     "data": {
      "text/plain": [
       "5"
      ]
     },
     "execution_count": 8,
     "metadata": {},
     "output_type": "execute_result"
    }
   ],
   "source": [
    "tupla_b[1]"
   ]
  },
  {
   "cell_type": "code",
   "execution_count": 9,
   "id": "696d0c11",
   "metadata": {},
   "outputs": [
    {
     "ename": "TypeError",
     "evalue": "'tuple' object does not support item assignment",
     "output_type": "error",
     "traceback": [
      "\u001b[0;31m---------------------------------------------------------------------------\u001b[0m",
      "\u001b[0;31mTypeError\u001b[0m                                 Traceback (most recent call last)",
      "\u001b[0;32m/tmp/ipykernel_38620/1288836854.py\u001b[0m in \u001b[0;36m<module>\u001b[0;34m\u001b[0m\n\u001b[0;32m----> 1\u001b[0;31m \u001b[0mtupla_b\u001b[0m\u001b[0;34m[\u001b[0m\u001b[0;36m1\u001b[0m\u001b[0;34m]\u001b[0m \u001b[0;34m=\u001b[0m \u001b[0;36m8\u001b[0m\u001b[0;34m\u001b[0m\u001b[0;34m\u001b[0m\u001b[0m\n\u001b[0m",
      "\u001b[0;31mTypeError\u001b[0m: 'tuple' object does not support item assignment"
     ]
    }
   ],
   "source": [
    "tupla_b[1] = 8"
   ]
  },
  {
   "cell_type": "code",
   "execution_count": 29,
   "id": "7f70a4ee",
   "metadata": {},
   "outputs": [],
   "source": [
    "tupla_c = 1, 'palavra', 5.5, 'fim'"
   ]
  },
  {
   "cell_type": "code",
   "execution_count": 30,
   "id": "9c426b2c",
   "metadata": {},
   "outputs": [
    {
     "data": {
      "text/plain": [
       "(1, 'palavra', 5.5, 'fim')"
      ]
     },
     "execution_count": 30,
     "metadata": {},
     "output_type": "execute_result"
    }
   ],
   "source": [
    "tupla_c"
   ]
  },
  {
   "cell_type": "code",
   "execution_count": 31,
   "id": "1ce22584",
   "metadata": {},
   "outputs": [],
   "source": [
    "tupla_d = 1, (1, 2), 'fim'"
   ]
  },
  {
   "cell_type": "code",
   "execution_count": 32,
   "id": "b2b24450",
   "metadata": {},
   "outputs": [],
   "source": [
    "tupla_e = 1, [1, 2], 'fim'"
   ]
  },
  {
   "cell_type": "code",
   "execution_count": null,
   "id": "061518ac",
   "metadata": {},
   "outputs": [],
   "source": [
    "tupla_e"
   ]
  },
  {
   "cell_type": "code",
   "execution_count": null,
   "id": "a701f3b5",
   "metadata": {},
   "outputs": [],
   "source": [
    "tupla_e[1]"
   ]
  },
  {
   "cell_type": "code",
   "execution_count": null,
   "id": "9dbb20ae",
   "metadata": {},
   "outputs": [],
   "source": [
    "tupla_e[1].append(1)"
   ]
  },
  {
   "cell_type": "code",
   "execution_count": null,
   "id": "bc44e07e",
   "metadata": {},
   "outputs": [],
   "source": [
    "tupla_e"
   ]
  },
  {
   "cell_type": "code",
   "execution_count": null,
   "id": "01702919",
   "metadata": {},
   "outputs": [],
   "source": [
    "tupla_e[1] = 'a'"
   ]
  },
  {
   "cell_type": "code",
   "execution_count": null,
   "id": "1ba55612",
   "metadata": {},
   "outputs": [],
   "source": [
    "a = [1,2]"
   ]
  },
  {
   "cell_type": "code",
   "execution_count": null,
   "id": "d14bd653",
   "metadata": {},
   "outputs": [],
   "source": [
    "b = [1,2]"
   ]
  },
  {
   "cell_type": "code",
   "execution_count": null,
   "id": "5af9b018",
   "metadata": {},
   "outputs": [],
   "source": [
    "a==b"
   ]
  },
  {
   "cell_type": "code",
   "execution_count": null,
   "id": "98a9a0b5",
   "metadata": {},
   "outputs": [],
   "source": [
    "b.append(4)"
   ]
  },
  {
   "cell_type": "code",
   "execution_count": null,
   "id": "1b3764aa",
   "metadata": {},
   "outputs": [],
   "source": [
    "def soma(a, b):\n",
    "    return a+b"
   ]
  },
  {
   "cell_type": "code",
   "execution_count": null,
   "id": "eab5bce7",
   "metadata": {},
   "outputs": [],
   "source": [
    "soma(4,5)"
   ]
  },
  {
   "cell_type": "code",
   "execution_count": null,
   "id": "676855f3",
   "metadata": {},
   "outputs": [],
   "source": [
    "tupla = 4,5"
   ]
  },
  {
   "cell_type": "code",
   "execution_count": null,
   "id": "5d771188",
   "metadata": {},
   "outputs": [],
   "source": [
    "soma(*tupla)"
   ]
  },
  {
   "cell_type": "code",
   "execution_count": null,
   "id": "33f65843",
   "metadata": {},
   "outputs": [],
   "source": [
    "lista = [4,5]"
   ]
  },
  {
   "cell_type": "code",
   "execution_count": null,
   "id": "fe343d59",
   "metadata": {},
   "outputs": [],
   "source": [
    "soma(*lista)"
   ]
  },
  {
   "cell_type": "code",
   "execution_count": null,
   "id": "4a069b5b",
   "metadata": {},
   "outputs": [],
   "source": [
    "tupla = 2,3,4"
   ]
  },
  {
   "cell_type": "code",
   "execution_count": null,
   "id": "7294c0e4",
   "metadata": {},
   "outputs": [],
   "source": [
    "soma(*tupla)"
   ]
  },
  {
   "cell_type": "code",
   "execution_count": null,
   "id": "c5d2cfca",
   "metadata": {},
   "outputs": [],
   "source": [
    "lista"
   ]
  },
  {
   "cell_type": "code",
   "execution_count": null,
   "id": "c37e6e96",
   "metadata": {},
   "outputs": [],
   "source": [
    "tuple(lista)"
   ]
  },
  {
   "cell_type": "code",
   "execution_count": null,
   "id": "d344b47d",
   "metadata": {},
   "outputs": [],
   "source": [
    "tuple('palavra')"
   ]
  },
  {
   "cell_type": "code",
   "execution_count": null,
   "id": "a7b5033c",
   "metadata": {},
   "outputs": [],
   "source": [
    "('foo', 'bar') * 4"
   ]
  },
  {
   "cell_type": "code",
   "execution_count": null,
   "id": "c571daaa",
   "metadata": {},
   "outputs": [],
   "source": [
    "lista*4"
   ]
  },
  {
   "cell_type": "code",
   "execution_count": null,
   "id": "9819daa7",
   "metadata": {},
   "outputs": [],
   "source": [
    "'palavra ' * 4"
   ]
  },
  {
   "cell_type": "code",
   "execution_count": null,
   "id": "a47276af",
   "metadata": {},
   "outputs": [],
   "source": [
    "tupla = (4,5,6)"
   ]
  },
  {
   "cell_type": "code",
   "execution_count": null,
   "id": "3dc007ed",
   "metadata": {},
   "outputs": [],
   "source": [
    "a, b, c = tupla"
   ]
  },
  {
   "cell_type": "code",
   "execution_count": null,
   "id": "61e7f83e",
   "metadata": {},
   "outputs": [],
   "source": [
    "a"
   ]
  },
  {
   "cell_type": "code",
   "execution_count": null,
   "id": "b229111a",
   "metadata": {},
   "outputs": [],
   "source": [
    "b"
   ]
  },
  {
   "cell_type": "code",
   "execution_count": null,
   "id": "b9a60f31",
   "metadata": {},
   "outputs": [],
   "source": [
    "c"
   ]
  },
  {
   "cell_type": "code",
   "execution_count": null,
   "id": "66e65b69",
   "metadata": {},
   "outputs": [],
   "source": [
    "valores = 1,2,3,4,5"
   ]
  },
  {
   "cell_type": "code",
   "execution_count": null,
   "id": "8199b81f",
   "metadata": {},
   "outputs": [],
   "source": [
    "a, b, *resto = valores"
   ]
  },
  {
   "cell_type": "code",
   "execution_count": null,
   "id": "f94a2f9f",
   "metadata": {},
   "outputs": [],
   "source": [
    "a"
   ]
  },
  {
   "cell_type": "code",
   "execution_count": null,
   "id": "cb2b70f0",
   "metadata": {},
   "outputs": [],
   "source": [
    "b"
   ]
  },
  {
   "cell_type": "code",
   "execution_count": null,
   "id": "8130c10c",
   "metadata": {},
   "outputs": [],
   "source": [
    "resto"
   ]
  },
  {
   "cell_type": "code",
   "execution_count": null,
   "id": "9076cb91",
   "metadata": {},
   "outputs": [],
   "source": [
    "valores.count(3)"
   ]
  },
  {
   "cell_type": "markdown",
   "id": "615585f1",
   "metadata": {},
   "source": [
    "## Listas"
   ]
  },
  {
   "cell_type": "code",
   "execution_count": null,
   "id": "d441bdde",
   "metadata": {},
   "outputs": [],
   "source": [
    "lista = [2,3,7,None]"
   ]
  },
  {
   "cell_type": "code",
   "execution_count": null,
   "id": "d84740db",
   "metadata": {},
   "outputs": [],
   "source": [
    "lista[0] = 'barr'"
   ]
  },
  {
   "cell_type": "code",
   "execution_count": null,
   "id": "5c20a78c",
   "metadata": {},
   "outputs": [],
   "source": [
    "lista"
   ]
  },
  {
   "cell_type": "code",
   "execution_count": null,
   "id": "3e988672",
   "metadata": {},
   "outputs": [],
   "source": [
    "gen = range(10)"
   ]
  },
  {
   "cell_type": "code",
   "execution_count": null,
   "id": "664d9071",
   "metadata": {},
   "outputs": [],
   "source": [
    "gen"
   ]
  },
  {
   "cell_type": "code",
   "execution_count": null,
   "id": "d846098a",
   "metadata": {},
   "outputs": [],
   "source": [
    "list(gen)"
   ]
  },
  {
   "cell_type": "code",
   "execution_count": null,
   "id": "4059333e",
   "metadata": {},
   "outputs": [],
   "source": [
    "for i in gen:\n",
    "    print(i)"
   ]
  },
  {
   "cell_type": "code",
   "execution_count": null,
   "id": "c6982a8b",
   "metadata": {},
   "outputs": [],
   "source": [
    "lista"
   ]
  },
  {
   "cell_type": "code",
   "execution_count": null,
   "id": "cec14465",
   "metadata": {},
   "outputs": [],
   "source": [
    "lista.append('nao')"
   ]
  },
  {
   "cell_type": "code",
   "execution_count": null,
   "id": "6c6f3767",
   "metadata": {},
   "outputs": [],
   "source": [
    "lista"
   ]
  },
  {
   "cell_type": "code",
   "execution_count": null,
   "id": "6e9ee935",
   "metadata": {},
   "outputs": [],
   "source": [
    "lista.insert(1, True)"
   ]
  },
  {
   "cell_type": "code",
   "execution_count": null,
   "id": "99467d0f",
   "metadata": {},
   "outputs": [],
   "source": [
    "lista"
   ]
  },
  {
   "cell_type": "code",
   "execution_count": null,
   "id": "e2a19945",
   "metadata": {},
   "outputs": [],
   "source": [
    "lista.pop(2)"
   ]
  },
  {
   "cell_type": "code",
   "execution_count": null,
   "id": "0a92f0e2",
   "metadata": {},
   "outputs": [],
   "source": [
    "lista"
   ]
  },
  {
   "cell_type": "code",
   "execution_count": 10,
   "id": "ecc7e276",
   "metadata": {},
   "outputs": [
    {
     "ename": "NameError",
     "evalue": "name 'lista' is not defined",
     "output_type": "error",
     "traceback": [
      "\u001b[0;31m---------------------------------------------------------------------------\u001b[0m",
      "\u001b[0;31mNameError\u001b[0m                                 Traceback (most recent call last)",
      "\u001b[0;32m/tmp/ipykernel_38620/2113603475.py\u001b[0m in \u001b[0;36m<module>\u001b[0;34m\u001b[0m\n\u001b[0;32m----> 1\u001b[0;31m \u001b[0mlista\u001b[0m\u001b[0;34m.\u001b[0m\u001b[0mappend\u001b[0m\u001b[0;34m(\u001b[0m\u001b[0;34m'barr'\u001b[0m\u001b[0;34m)\u001b[0m\u001b[0;34m\u001b[0m\u001b[0;34m\u001b[0m\u001b[0m\n\u001b[0m",
      "\u001b[0;31mNameError\u001b[0m: name 'lista' is not defined"
     ]
    }
   ],
   "source": [
    "lista.append('barr')"
   ]
  },
  {
   "cell_type": "code",
   "execution_count": null,
   "id": "9426c0f3",
   "metadata": {},
   "outputs": [],
   "source": [
    "lista"
   ]
  },
  {
   "cell_type": "code",
   "execution_count": null,
   "id": "aedf0132",
   "metadata": {},
   "outputs": [],
   "source": [
    "lista.remove('barr')"
   ]
  },
  {
   "cell_type": "code",
   "execution_count": null,
   "id": "7533db7d",
   "metadata": {},
   "outputs": [],
   "source": [
    "lista"
   ]
  },
  {
   "cell_type": "code",
   "execution_count": null,
   "id": "38122db7",
   "metadata": {},
   "outputs": [],
   "source": [
    "7 in lista"
   ]
  },
  {
   "cell_type": "code",
   "execution_count": null,
   "id": "94066f7f",
   "metadata": {},
   "outputs": [],
   "source": [
    "7 not in lista"
   ]
  },
  {
   "cell_type": "code",
   "execution_count": null,
   "id": "53a88935",
   "metadata": {},
   "outputs": [],
   "source": [
    "8 not in lista"
   ]
  },
  {
   "cell_type": "code",
   "execution_count": null,
   "id": "0cbcef77",
   "metadata": {},
   "outputs": [],
   "source": [
    "lista_2 = [7, None]"
   ]
  },
  {
   "cell_type": "code",
   "execution_count": null,
   "id": "9f7f5d26",
   "metadata": {},
   "outputs": [],
   "source": [
    "lista + lista_2"
   ]
  },
  {
   "cell_type": "code",
   "execution_count": null,
   "id": "a1cad47d",
   "metadata": {},
   "outputs": [],
   "source": [
    "lista"
   ]
  },
  {
   "cell_type": "code",
   "execution_count": null,
   "id": "b5099f97",
   "metadata": {},
   "outputs": [],
   "source": [
    "lista.extend(lista_2)"
   ]
  },
  {
   "cell_type": "code",
   "execution_count": null,
   "id": "19fefdc9",
   "metadata": {},
   "outputs": [],
   "source": [
    "lista"
   ]
  },
  {
   "cell_type": "code",
   "execution_count": null,
   "id": "c01c4417",
   "metadata": {},
   "outputs": [],
   "source": [
    "lista_3 = lista + lista_2"
   ]
  },
  {
   "cell_type": "code",
   "execution_count": null,
   "id": "56ea6826",
   "metadata": {},
   "outputs": [],
   "source": [
    "lista"
   ]
  },
  {
   "cell_type": "code",
   "execution_count": null,
   "id": "a2691b7b",
   "metadata": {},
   "outputs": [],
   "source": [
    "lista_2"
   ]
  },
  {
   "cell_type": "code",
   "execution_count": null,
   "id": "ced1ac60",
   "metadata": {},
   "outputs": [],
   "source": [
    "lista_3"
   ]
  },
  {
   "cell_type": "code",
   "execution_count": null,
   "id": "d6eeb2c5",
   "metadata": {},
   "outputs": [],
   "source": [
    "lista_3[0] = False"
   ]
  },
  {
   "cell_type": "code",
   "execution_count": null,
   "id": "a1a85ca7",
   "metadata": {},
   "outputs": [],
   "source": [
    "lista_3"
   ]
  },
  {
   "cell_type": "code",
   "execution_count": null,
   "id": "cc9a0211",
   "metadata": {},
   "outputs": [],
   "source": [
    "lista"
   ]
  },
  {
   "cell_type": "code",
   "execution_count": null,
   "id": "8e04b6de",
   "metadata": {},
   "outputs": [],
   "source": [
    "lista = [1,2,3]\n",
    "lista_2 = [4,5,6]"
   ]
  },
  {
   "cell_type": "code",
   "execution_count": null,
   "id": "4e63f676",
   "metadata": {},
   "outputs": [],
   "source": [
    "lista + lista_2"
   ]
  },
  {
   "cell_type": "code",
   "execution_count": null,
   "id": "606a56e2",
   "metadata": {},
   "outputs": [],
   "source": [
    "lista = lista + lista_2"
   ]
  },
  {
   "cell_type": "code",
   "execution_count": null,
   "id": "ec4b315f",
   "metadata": {},
   "outputs": [],
   "source": [
    "lista"
   ]
  },
  {
   "cell_type": "code",
   "execution_count": null,
   "id": "118acc7c",
   "metadata": {},
   "outputs": [],
   "source": [
    "lista = ['zero', 'clarice', 'ana', 'beto']"
   ]
  },
  {
   "cell_type": "code",
   "execution_count": null,
   "id": "be39bfd8",
   "metadata": {},
   "outputs": [],
   "source": [
    "lista.sort()"
   ]
  },
  {
   "cell_type": "code",
   "execution_count": null,
   "id": "870b315a",
   "metadata": {},
   "outputs": [],
   "source": [
    "lista"
   ]
  },
  {
   "cell_type": "code",
   "execution_count": null,
   "id": "f018d97b",
   "metadata": {},
   "outputs": [],
   "source": [
    "len('lista')"
   ]
  },
  {
   "cell_type": "code",
   "execution_count": 11,
   "id": "bcc7b150",
   "metadata": {},
   "outputs": [
    {
     "ename": "NameError",
     "evalue": "name 'lista' is not defined",
     "output_type": "error",
     "traceback": [
      "\u001b[0;31m---------------------------------------------------------------------------\u001b[0m",
      "\u001b[0;31mNameError\u001b[0m                                 Traceback (most recent call last)",
      "\u001b[0;32m/tmp/ipykernel_38620/684778431.py\u001b[0m in \u001b[0;36m<module>\u001b[0;34m\u001b[0m\n\u001b[0;32m----> 1\u001b[0;31m \u001b[0mlista\u001b[0m\u001b[0;34m.\u001b[0m\u001b[0msort\u001b[0m\u001b[0;34m(\u001b[0m\u001b[0mkey\u001b[0m\u001b[0;34m=\u001b[0m\u001b[0mlen\u001b[0m\u001b[0;34m)\u001b[0m\u001b[0;34m\u001b[0m\u001b[0;34m\u001b[0m\u001b[0m\n\u001b[0m",
      "\u001b[0;31mNameError\u001b[0m: name 'lista' is not defined"
     ]
    }
   ],
   "source": [
    "lista.sort(key=len)"
   ]
  },
  {
   "cell_type": "code",
   "execution_count": null,
   "id": "bc38b026",
   "metadata": {},
   "outputs": [],
   "source": [
    "lista"
   ]
  },
  {
   "cell_type": "code",
   "execution_count": null,
   "id": "64be8ea1",
   "metadata": {},
   "outputs": [],
   "source": [
    "lista[0]"
   ]
  },
  {
   "cell_type": "code",
   "execution_count": null,
   "id": "fc0a0937",
   "metadata": {},
   "outputs": [],
   "source": [
    "lista.extend(['duda', 'ellen'])"
   ]
  },
  {
   "cell_type": "code",
   "execution_count": null,
   "id": "6a722173",
   "metadata": {},
   "outputs": [],
   "source": [
    "lista"
   ]
  },
  {
   "cell_type": "code",
   "execution_count": null,
   "id": "4791e62e",
   "metadata": {},
   "outputs": [],
   "source": [
    "lista[1:4]"
   ]
  },
  {
   "cell_type": "code",
   "execution_count": null,
   "id": "c6d47e37",
   "metadata": {},
   "outputs": [],
   "source": [
    "lista[:4]"
   ]
  },
  {
   "cell_type": "code",
   "execution_count": null,
   "id": "66cb50d8",
   "metadata": {},
   "outputs": [],
   "source": [
    "lista[3:]"
   ]
  },
  {
   "cell_type": "code",
   "execution_count": null,
   "id": "ca1034e7",
   "metadata": {},
   "outputs": [],
   "source": [
    "lista[-2]"
   ]
  },
  {
   "cell_type": "code",
   "execution_count": null,
   "id": "885a4622",
   "metadata": {},
   "outputs": [],
   "source": [
    "lista[1:-2]"
   ]
  },
  {
   "cell_type": "code",
   "execution_count": null,
   "id": "63887b55",
   "metadata": {},
   "outputs": [],
   "source": [
    "lista[-2:]"
   ]
  },
  {
   "cell_type": "code",
   "execution_count": null,
   "id": "e080c685",
   "metadata": {},
   "outputs": [],
   "source": [
    "lista[1:5:2]"
   ]
  },
  {
   "cell_type": "code",
   "execution_count": null,
   "id": "9904b9a5",
   "metadata": {},
   "outputs": [],
   "source": [
    "lista[::-1]"
   ]
  },
  {
   "cell_type": "code",
   "execution_count": null,
   "id": "1981fc30",
   "metadata": {},
   "outputs": [],
   "source": [
    "lista = [[1, 2], [3, 4], [5, 6]]"
   ]
  },
  {
   "cell_type": "code",
   "execution_count": null,
   "id": "f4a32ff0",
   "metadata": {},
   "outputs": [],
   "source": [
    "for e in lista:\n",
    "    print(e)"
   ]
  },
  {
   "cell_type": "code",
   "execution_count": null,
   "id": "815ec619",
   "metadata": {},
   "outputs": [],
   "source": [
    "for e1, e2 in lista:\n",
    "    print(f'elemento 1 - {e1}')    \n",
    "    print(f'elemento 2 - {e2}')\n",
    "    print()"
   ]
  },
  {
   "cell_type": "code",
   "execution_count": null,
   "id": "d2b7b0c5",
   "metadata": {},
   "outputs": [],
   "source": [
    "lista = ['ellen', 'duda', 'clarice', 'zero', 'beto', 'ana', 14]"
   ]
  },
  {
   "cell_type": "code",
   "execution_count": null,
   "id": "c985e7c9",
   "metadata": {},
   "outputs": [],
   "source": [
    "for nome in lista:\n",
    "    print(f'nome: {nome:>10}')"
   ]
  },
  {
   "cell_type": "code",
   "execution_count": null,
   "id": "e28e874c",
   "metadata": {},
   "outputs": [],
   "source": [
    "for i, nome in enumerate(lista):\n",
    "    print(f'{i:>2} posicao: {nome}')\n",
    "    \n",
    "    "
   ]
  },
  {
   "cell_type": "code",
   "execution_count": null,
   "id": "1f5d6ba4",
   "metadata": {},
   "outputs": [],
   "source": [
    "for i in range(len(lista)):\n",
    "    nome = lista[i]\n",
    "    print(f'{i:>2} posicao: {nome}')\n"
   ]
  },
  {
   "cell_type": "markdown",
   "id": "0e8d714f",
   "metadata": {},
   "source": [
    "## Dict"
   ]
  },
  {
   "cell_type": "code",
   "execution_count": 33,
   "id": "22e8931b",
   "metadata": {},
   "outputs": [],
   "source": [
    "dicionario_vazio = {}"
   ]
  },
  {
   "cell_type": "code",
   "execution_count": 34,
   "id": "9d11b4d7",
   "metadata": {},
   "outputs": [],
   "source": [
    "d1 = {\n",
    "    'a': 'algum valor', \n",
    "    'b': [1, 2, 3, ], \n",
    "}"
   ]
  },
  {
   "cell_type": "code",
   "execution_count": 35,
   "id": "b2216939",
   "metadata": {},
   "outputs": [
    {
     "data": {
      "text/plain": [
       "{'a': 'algum valor', 'b': [1, 2, 3]}"
      ]
     },
     "execution_count": 35,
     "metadata": {},
     "output_type": "execute_result"
    }
   ],
   "source": [
    "d1"
   ]
  },
  {
   "cell_type": "code",
   "execution_count": 36,
   "id": "b582b20b",
   "metadata": {},
   "outputs": [],
   "source": [
    "d1['c'] = 1,2,3"
   ]
  },
  {
   "cell_type": "code",
   "execution_count": 37,
   "id": "ed068709",
   "metadata": {},
   "outputs": [
    {
     "data": {
      "text/plain": [
       "{'a': 'algum valor', 'b': [1, 2, 3], 'c': (1, 2, 3)}"
      ]
     },
     "execution_count": 37,
     "metadata": {},
     "output_type": "execute_result"
    }
   ],
   "source": [
    "d1"
   ]
  },
  {
   "cell_type": "code",
   "execution_count": 38,
   "id": "182b02b4",
   "metadata": {},
   "outputs": [
    {
     "data": {
      "text/plain": [
       "True"
      ]
     },
     "execution_count": 38,
     "metadata": {},
     "output_type": "execute_result"
    }
   ],
   "source": [
    "'b' in d1"
   ]
  },
  {
   "cell_type": "code",
   "execution_count": 39,
   "id": "38a63bab",
   "metadata": {},
   "outputs": [
    {
     "name": "stdout",
     "output_type": "stream",
     "text": [
      "a\n",
      "b\n",
      "c\n"
     ]
    }
   ],
   "source": [
    "for key in d1:\n",
    "    print(key)"
   ]
  },
  {
   "cell_type": "code",
   "execution_count": 40,
   "id": "38c9ae66",
   "metadata": {},
   "outputs": [
    {
     "name": "stdout",
     "output_type": "stream",
     "text": [
      "a: algum valor\n",
      "b: [1, 2, 3]\n",
      "c: (1, 2, 3)\n"
     ]
    }
   ],
   "source": [
    "for key in d1:\n",
    "    value = d1[key]\n",
    "    print(f'{key}: {value}')"
   ]
  },
  {
   "cell_type": "code",
   "execution_count": 41,
   "id": "7d653af8",
   "metadata": {},
   "outputs": [
    {
     "data": {
      "text/plain": [
       "dict_items([('a', 'algum valor'), ('b', [1, 2, 3]), ('c', (1, 2, 3))])"
      ]
     },
     "execution_count": 41,
     "metadata": {},
     "output_type": "execute_result"
    }
   ],
   "source": [
    "d1.items()"
   ]
  },
  {
   "cell_type": "code",
   "execution_count": 21,
   "id": "89d02f59",
   "metadata": {},
   "outputs": [
    {
     "name": "stdout",
     "output_type": "stream",
     "text": [
      "a: algum valor\n",
      "b: [1, 2, 3]\n",
      "c: (1, 2, 3)\n"
     ]
    }
   ],
   "source": [
    "for key, value in d1.items():\n",
    "    print(f'{key}: {value}')"
   ]
  },
  {
   "cell_type": "code",
   "execution_count": 22,
   "id": "eb7223bb",
   "metadata": {},
   "outputs": [
    {
     "data": {
      "text/plain": [
       "['a', 'b', 'c']"
      ]
     },
     "execution_count": 22,
     "metadata": {},
     "output_type": "execute_result"
    }
   ],
   "source": [
    "list(d1.keys())"
   ]
  },
  {
   "cell_type": "code",
   "execution_count": 23,
   "id": "afa3df21",
   "metadata": {},
   "outputs": [
    {
     "data": {
      "text/plain": [
       "['algum valor', [1, 2, 3], (1, 2, 3)]"
      ]
     },
     "execution_count": 23,
     "metadata": {},
     "output_type": "execute_result"
    }
   ],
   "source": [
    "list(d1.values())"
   ]
  },
  {
   "cell_type": "code",
   "execution_count": 47,
   "id": "68597752",
   "metadata": {},
   "outputs": [],
   "source": [
    "d1.update({'d': 'foo', 5: 'bar'})"
   ]
  },
  {
   "cell_type": "code",
   "execution_count": 48,
   "id": "05e9d159",
   "metadata": {},
   "outputs": [
    {
     "data": {
      "text/plain": [
       "{'a': 'algum valor', 'b': [1, 2, 3], 'c': (1, 2, 3), 'd': 'foo', 5: 'bar'}"
      ]
     },
     "execution_count": 48,
     "metadata": {},
     "output_type": "execute_result"
    }
   ],
   "source": [
    "d1"
   ]
  },
  {
   "cell_type": "code",
   "execution_count": 49,
   "id": "e93c8493",
   "metadata": {},
   "outputs": [
    {
     "data": {
      "text/plain": [
       "'algum valor'"
      ]
     },
     "execution_count": 49,
     "metadata": {},
     "output_type": "execute_result"
    }
   ],
   "source": [
    "d1['a']"
   ]
  },
  {
   "cell_type": "code",
   "execution_count": 42,
   "id": "0ae2b5fb",
   "metadata": {},
   "outputs": [
    {
     "ename": "KeyError",
     "evalue": "1",
     "output_type": "error",
     "traceback": [
      "\u001b[0;31m---------------------------------------------------------------------------\u001b[0m",
      "\u001b[0;31mKeyError\u001b[0m                                  Traceback (most recent call last)",
      "\u001b[0;32m/tmp/ipykernel_38620/3398278310.py\u001b[0m in \u001b[0;36m<module>\u001b[0;34m\u001b[0m\n\u001b[0;32m----> 1\u001b[0;31m \u001b[0md1\u001b[0m\u001b[0;34m[\u001b[0m\u001b[0;36m1\u001b[0m\u001b[0;34m]\u001b[0m\u001b[0;34m\u001b[0m\u001b[0;34m\u001b[0m\u001b[0m\n\u001b[0m",
      "\u001b[0;31mKeyError\u001b[0m: 1"
     ]
    }
   ],
   "source": [
    "d1[1]"
   ]
  },
  {
   "cell_type": "code",
   "execution_count": 50,
   "id": "f56ed61b",
   "metadata": {},
   "outputs": [
    {
     "data": {
      "text/plain": [
       "'valor padrao'"
      ]
     },
     "execution_count": 50,
     "metadata": {},
     "output_type": "execute_result"
    }
   ],
   "source": [
    "d1.get(1, 'valor padrao')"
   ]
  },
  {
   "cell_type": "code",
   "execution_count": 51,
   "id": "351bde56",
   "metadata": {},
   "outputs": [
    {
     "data": {
      "text/plain": [
       "'foo'"
      ]
     },
     "execution_count": 51,
     "metadata": {},
     "output_type": "execute_result"
    }
   ],
   "source": [
    "d1.get('d', 'valor padrao')"
   ]
  },
  {
   "cell_type": "markdown",
   "id": "935b5504",
   "metadata": {},
   "source": [
    "## Set"
   ]
  },
  {
   "cell_type": "code",
   "execution_count": 80,
   "id": "249a9682",
   "metadata": {},
   "outputs": [],
   "source": [
    "lista = [1, 1, 2, 2, 3, 3, 7, -2]"
   ]
  },
  {
   "cell_type": "code",
   "execution_count": 81,
   "id": "ea9c3215",
   "metadata": {},
   "outputs": [
    {
     "data": {
      "text/plain": [
       "[1, 1, 2, 2, 3, 3, 7, -2]"
      ]
     },
     "execution_count": 81,
     "metadata": {},
     "output_type": "execute_result"
    }
   ],
   "source": [
    "lista"
   ]
  },
  {
   "cell_type": "code",
   "execution_count": 82,
   "id": "90843dfc",
   "metadata": {},
   "outputs": [],
   "source": [
    "conjunto  = set(lista)"
   ]
  },
  {
   "cell_type": "code",
   "execution_count": 83,
   "id": "7b17d608",
   "metadata": {},
   "outputs": [
    {
     "data": {
      "text/plain": [
       "{-2, 1, 2, 3, 7}"
      ]
     },
     "execution_count": 83,
     "metadata": {},
     "output_type": "execute_result"
    }
   ],
   "source": [
    "conjunto"
   ]
  },
  {
   "cell_type": "code",
   "execution_count": 84,
   "id": "afcbbbb6",
   "metadata": {},
   "outputs": [
    {
     "ename": "TypeError",
     "evalue": "'set' object is not subscriptable",
     "output_type": "error",
     "traceback": [
      "\u001b[0;31m---------------------------------------------------------------------------\u001b[0m",
      "\u001b[0;31mTypeError\u001b[0m                                 Traceback (most recent call last)",
      "\u001b[0;32m/tmp/ipykernel_38620/2799954259.py\u001b[0m in \u001b[0;36m<module>\u001b[0;34m\u001b[0m\n\u001b[0;32m----> 1\u001b[0;31m \u001b[0mconjunto\u001b[0m\u001b[0;34m[\u001b[0m\u001b[0;36m1\u001b[0m\u001b[0;34m]\u001b[0m\u001b[0;34m\u001b[0m\u001b[0;34m\u001b[0m\u001b[0m\n\u001b[0m",
      "\u001b[0;31mTypeError\u001b[0m: 'set' object is not subscriptable"
     ]
    }
   ],
   "source": [
    "conjunto[1]"
   ]
  },
  {
   "cell_type": "code",
   "execution_count": 85,
   "id": "2d0b304a",
   "metadata": {},
   "outputs": [
    {
     "name": "stdout",
     "output_type": "stream",
     "text": [
      "1\n",
      "2\n",
      "3\n",
      "7\n",
      "-2\n"
     ]
    }
   ],
   "source": [
    "for elemento in conjunto:\n",
    "    print(elemento)"
   ]
  },
  {
   "cell_type": "code",
   "execution_count": 86,
   "id": "c4379de2",
   "metadata": {},
   "outputs": [
    {
     "data": {
      "text/plain": [
       "7"
      ]
     },
     "execution_count": 86,
     "metadata": {},
     "output_type": "execute_result"
    }
   ],
   "source": [
    "max(conjunto)"
   ]
  },
  {
   "cell_type": "code",
   "execution_count": 87,
   "id": "7572305a",
   "metadata": {},
   "outputs": [
    {
     "data": {
      "text/plain": [
       "5"
      ]
     },
     "execution_count": 87,
     "metadata": {},
     "output_type": "execute_result"
    }
   ],
   "source": [
    "len(conjunto)"
   ]
  },
  {
   "cell_type": "code",
   "execution_count": 65,
   "id": "2b124e72",
   "metadata": {},
   "outputs": [],
   "source": [
    "conjunto_vazio = set()"
   ]
  },
  {
   "cell_type": "code",
   "execution_count": 66,
   "id": "50dd215a",
   "metadata": {},
   "outputs": [
    {
     "data": {
      "text/plain": [
       "set()"
      ]
     },
     "execution_count": 66,
     "metadata": {},
     "output_type": "execute_result"
    }
   ],
   "source": [
    "conjunto_vazio"
   ]
  },
  {
   "cell_type": "code",
   "execution_count": 61,
   "id": "ef48de5c",
   "metadata": {},
   "outputs": [],
   "source": [
    "a = {1, 2, 3, 4, 5}"
   ]
  },
  {
   "cell_type": "code",
   "execution_count": 88,
   "id": "5cb427ef",
   "metadata": {},
   "outputs": [],
   "source": [
    "b = {3, 4, 5, 6, 7, 8}"
   ]
  },
  {
   "cell_type": "code",
   "execution_count": 89,
   "id": "7d45bdf0",
   "metadata": {},
   "outputs": [
    {
     "data": {
      "text/plain": [
       "{1, 2, 3, 4, 5, 6, 7, 8}"
      ]
     },
     "execution_count": 89,
     "metadata": {},
     "output_type": "execute_result"
    }
   ],
   "source": [
    "a.union(b)"
   ]
  },
  {
   "cell_type": "code",
   "execution_count": 90,
   "id": "766dfb40",
   "metadata": {},
   "outputs": [
    {
     "data": {
      "text/plain": [
       "{1, 2, 3, 4, 5, 6, 7, 8}"
      ]
     },
     "execution_count": 90,
     "metadata": {},
     "output_type": "execute_result"
    }
   ],
   "source": [
    "a|b"
   ]
  },
  {
   "cell_type": "code",
   "execution_count": 91,
   "id": "6aac2ec1",
   "metadata": {},
   "outputs": [],
   "source": [
    "c = a.copy()"
   ]
  },
  {
   "cell_type": "code",
   "execution_count": 92,
   "id": "5d92c35b",
   "metadata": {},
   "outputs": [
    {
     "data": {
      "text/plain": [
       "{1, 2, 3, 4, 5}"
      ]
     },
     "execution_count": 92,
     "metadata": {},
     "output_type": "execute_result"
    }
   ],
   "source": [
    "a"
   ]
  },
  {
   "cell_type": "code",
   "execution_count": 93,
   "id": "5b5eed2e",
   "metadata": {},
   "outputs": [
    {
     "data": {
      "text/plain": [
       "{1, 2, 3, 4, 5}"
      ]
     },
     "execution_count": 93,
     "metadata": {},
     "output_type": "execute_result"
    }
   ],
   "source": [
    "c"
   ]
  },
  {
   "cell_type": "code",
   "execution_count": 94,
   "id": "ac39af24",
   "metadata": {},
   "outputs": [],
   "source": [
    "a.add(100)"
   ]
  },
  {
   "cell_type": "code",
   "execution_count": 95,
   "id": "26fa553d",
   "metadata": {},
   "outputs": [
    {
     "data": {
      "text/plain": [
       "{1, 2, 3, 4, 5, 100}"
      ]
     },
     "execution_count": 95,
     "metadata": {},
     "output_type": "execute_result"
    }
   ],
   "source": [
    "a"
   ]
  },
  {
   "cell_type": "code",
   "execution_count": 96,
   "id": "57e715cd",
   "metadata": {},
   "outputs": [
    {
     "data": {
      "text/plain": [
       "{1, 2, 3, 4, 5}"
      ]
     },
     "execution_count": 96,
     "metadata": {},
     "output_type": "execute_result"
    }
   ],
   "source": [
    "c"
   ]
  },
  {
   "cell_type": "code",
   "execution_count": 97,
   "id": "ee6c5b67",
   "metadata": {},
   "outputs": [
    {
     "ename": "TypeError",
     "evalue": "unhashable type: 'list'",
     "output_type": "error",
     "traceback": [
      "\u001b[0;31m---------------------------------------------------------------------------\u001b[0m",
      "\u001b[0;31mTypeError\u001b[0m                                 Traceback (most recent call last)",
      "\u001b[0;32m/tmp/ipykernel_38620/722899992.py\u001b[0m in \u001b[0;36m<module>\u001b[0;34m\u001b[0m\n\u001b[0;32m----> 1\u001b[0;31m \u001b[0mlista\u001b[0m \u001b[0;34m=\u001b[0m \u001b[0;34m{\u001b[0m\u001b[0;36m1\u001b[0m\u001b[0;34m,\u001b[0m \u001b[0;36m2\u001b[0m\u001b[0;34m,\u001b[0m \u001b[0;36m3\u001b[0m\u001b[0;34m,\u001b[0m \u001b[0;34m[\u001b[0m\u001b[0;36m4\u001b[0m\u001b[0;34m,\u001b[0m \u001b[0;36m5\u001b[0m\u001b[0;34m,\u001b[0m \u001b[0;36m6\u001b[0m\u001b[0;34m]\u001b[0m\u001b[0;34m}\u001b[0m\u001b[0;34m\u001b[0m\u001b[0;34m\u001b[0m\u001b[0m\n\u001b[0m",
      "\u001b[0;31mTypeError\u001b[0m: unhashable type: 'list'"
     ]
    }
   ],
   "source": [
    "conjunto_com_lista = {1, 2, 3, [4, 5, 6]}"
   ]
  },
  {
   "cell_type": "code",
   "execution_count": 99,
   "id": "729adfac",
   "metadata": {},
   "outputs": [],
   "source": [
    "conjunto_com_tupla = {1, 2, 3, (4, 5, 6)}"
   ]
  },
  {
   "cell_type": "markdown",
   "id": "2a170f47",
   "metadata": {},
   "source": [
    "## Comprehensions"
   ]
  },
  {
   "cell_type": "code",
   "execution_count": 100,
   "id": "052bfdd6",
   "metadata": {},
   "outputs": [],
   "source": [
    "palavras = ['a', 'as', 'bat', 'car', 'dove', 'python']"
   ]
  },
  {
   "cell_type": "code",
   "execution_count": 103,
   "id": "abc6dcab",
   "metadata": {},
   "outputs": [],
   "source": [
    "lista_palavras_longas = [e for e in palavras if len(e) > 2]"
   ]
  },
  {
   "cell_type": "code",
   "execution_count": 104,
   "id": "b871c596",
   "metadata": {},
   "outputs": [
    {
     "data": {
      "text/plain": [
       "['bat', 'car', 'dove', 'python']"
      ]
     },
     "execution_count": 104,
     "metadata": {},
     "output_type": "execute_result"
    }
   ],
   "source": [
    "lista_palavras_longas"
   ]
  },
  {
   "cell_type": "code",
   "execution_count": 105,
   "id": "e239b7d2",
   "metadata": {},
   "outputs": [],
   "source": [
    "lista_palavras_uppercase = [e.upper() for e in palavras]"
   ]
  },
  {
   "cell_type": "code",
   "execution_count": 106,
   "id": "e04f3e14",
   "metadata": {},
   "outputs": [
    {
     "data": {
      "text/plain": [
       "['A', 'AS', 'BAT', 'CAR', 'DOVE', 'PYTHON']"
      ]
     },
     "execution_count": 106,
     "metadata": {},
     "output_type": "execute_result"
    }
   ],
   "source": [
    "lista_palavras_uppercase"
   ]
  },
  {
   "cell_type": "code",
   "execution_count": 107,
   "id": "c05ba0b7",
   "metadata": {},
   "outputs": [],
   "source": [
    "lista_palavras_longas_uppercase = [e.upper() for e in palavras if len(e) > 2]"
   ]
  },
  {
   "cell_type": "code",
   "execution_count": 108,
   "id": "bc7921cb",
   "metadata": {},
   "outputs": [
    {
     "data": {
      "text/plain": [
       "['BAT', 'CAR', 'DOVE', 'PYTHON']"
      ]
     },
     "execution_count": 108,
     "metadata": {},
     "output_type": "execute_result"
    }
   ],
   "source": [
    "lista_palavras_longas_uppercase"
   ]
  },
  {
   "cell_type": "code",
   "execution_count": 109,
   "id": "ce5bac68",
   "metadata": {},
   "outputs": [],
   "source": [
    "tamanhos = {palavra: len(palavra) for palavra in palavras}"
   ]
  },
  {
   "cell_type": "code",
   "execution_count": 110,
   "id": "3e8f6eb0",
   "metadata": {},
   "outputs": [
    {
     "data": {
      "text/plain": [
       "{'a': 1, 'as': 2, 'bat': 3, 'car': 3, 'dove': 4, 'python': 6}"
      ]
     },
     "execution_count": 110,
     "metadata": {},
     "output_type": "execute_result"
    }
   ],
   "source": [
    "tamanhos"
   ]
  },
  {
   "cell_type": "markdown",
   "id": "2ab5dbd0",
   "metadata": {},
   "source": [
    "# Funções"
   ]
  },
  {
   "cell_type": "code",
   "execution_count": 114,
   "id": "8ee10367",
   "metadata": {},
   "outputs": [],
   "source": [
    "def minha_funcao(x, y, z=1.5):\n",
    "    print(f'x = {x}')\n",
    "    print(f'y = {y}')\n",
    "    print(f'z = {z}')\n",
    "    if z > 1:\n",
    "        return z * (x+y)\n",
    "    else:\n",
    "        return z / (x+y)"
   ]
  },
  {
   "cell_type": "code",
   "execution_count": 115,
   "id": "5d961f0b",
   "metadata": {},
   "outputs": [
    {
     "name": "stdout",
     "output_type": "stream",
     "text": [
      "x = 10\n",
      "y = 20\n",
      "z = 1.5\n"
     ]
    },
    {
     "data": {
      "text/plain": [
       "45.0"
      ]
     },
     "execution_count": 115,
     "metadata": {},
     "output_type": "execute_result"
    }
   ],
   "source": [
    "minha_funcao(10, 20)"
   ]
  },
  {
   "cell_type": "code",
   "execution_count": 116,
   "id": "5ca07eb4",
   "metadata": {},
   "outputs": [
    {
     "name": "stdout",
     "output_type": "stream",
     "text": [
      "x = 3.14\n",
      "y = 7\n",
      "z = 3.5\n"
     ]
    },
    {
     "data": {
      "text/plain": [
       "35.49"
      ]
     },
     "execution_count": 116,
     "metadata": {},
     "output_type": "execute_result"
    }
   ],
   "source": [
    "minha_funcao(3.14, 7, 3.5)"
   ]
  },
  {
   "cell_type": "code",
   "execution_count": 117,
   "id": "912f5e5e",
   "metadata": {},
   "outputs": [
    {
     "name": "stdout",
     "output_type": "stream",
     "text": [
      "x = 5\n",
      "y = 6\n",
      "z = 7\n"
     ]
    },
    {
     "data": {
      "text/plain": [
       "77"
      ]
     },
     "execution_count": 117,
     "metadata": {},
     "output_type": "execute_result"
    }
   ],
   "source": [
    "minha_funcao(5, 6, z=7)"
   ]
  },
  {
   "cell_type": "code",
   "execution_count": 118,
   "id": "610651c1",
   "metadata": {},
   "outputs": [
    {
     "name": "stdout",
     "output_type": "stream",
     "text": [
      "x = 5\n",
      "y = 6\n",
      "z = 7\n"
     ]
    },
    {
     "data": {
      "text/plain": [
       "77"
      ]
     },
     "execution_count": 118,
     "metadata": {},
     "output_type": "execute_result"
    }
   ],
   "source": [
    "minha_funcao(z=7, y=6, x=5)"
   ]
  },
  {
   "cell_type": "code",
   "execution_count": 120,
   "id": "ea87efed",
   "metadata": {},
   "outputs": [
    {
     "ename": "SyntaxError",
     "evalue": "positional argument follows keyword argument (1900379212.py, line 1)",
     "output_type": "error",
     "traceback": [
      "\u001b[0;36m  File \u001b[0;32m\"/tmp/ipykernel_38620/1900379212.py\"\u001b[0;36m, line \u001b[0;32m1\u001b[0m\n\u001b[0;31m    minha_funcao(x=7, 5, 6)\u001b[0m\n\u001b[0m                      ^\u001b[0m\n\u001b[0;31mSyntaxError\u001b[0m\u001b[0;31m:\u001b[0m positional argument follows keyword argument\n"
     ]
    }
   ],
   "source": [
    "minha_funcao(x=7, 5, 6)"
   ]
  },
  {
   "cell_type": "markdown",
   "id": "49a53a0d",
   "metadata": {},
   "source": [
    "## Retornando multiplos valores"
   ]
  },
  {
   "cell_type": "code",
   "execution_count": 121,
   "id": "a529b0bf",
   "metadata": {},
   "outputs": [],
   "source": [
    "def calcula_3_potencias(x):\n",
    "    return x, x**2, x**3"
   ]
  },
  {
   "cell_type": "code",
   "execution_count": 122,
   "id": "4dc601ca",
   "metadata": {},
   "outputs": [],
   "source": [
    "x = 2"
   ]
  },
  {
   "cell_type": "code",
   "execution_count": 123,
   "id": "250bcc62",
   "metadata": {},
   "outputs": [],
   "source": [
    "x_normal, x_quadrado, x_cubo = calcula_3_potencias(x)"
   ]
  },
  {
   "cell_type": "code",
   "execution_count": 124,
   "id": "fd805aee",
   "metadata": {},
   "outputs": [
    {
     "data": {
      "text/plain": [
       "(2, 4, 8)"
      ]
     },
     "execution_count": 124,
     "metadata": {},
     "output_type": "execute_result"
    }
   ],
   "source": [
    "x_normal, x_quadrado, x_cubo"
   ]
  },
  {
   "cell_type": "code",
   "execution_count": null,
   "id": "93132ca8",
   "metadata": {},
   "outputs": [],
   "source": []
  },
  {
   "cell_type": "code",
   "execution_count": null,
   "id": "8540df3b",
   "metadata": {},
   "outputs": [],
   "source": []
  },
  {
   "cell_type": "code",
   "execution_count": null,
   "id": "5d77300e",
   "metadata": {},
   "outputs": [],
   "source": []
  },
  {
   "cell_type": "code",
   "execution_count": null,
   "id": "13f51ee0",
   "metadata": {},
   "outputs": [],
   "source": []
  },
  {
   "cell_type": "code",
   "execution_count": null,
   "id": "c96eb252",
   "metadata": {},
   "outputs": [],
   "source": []
  },
  {
   "cell_type": "code",
   "execution_count": null,
   "id": "a6045a4e",
   "metadata": {},
   "outputs": [],
   "source": []
  },
  {
   "cell_type": "code",
   "execution_count": 28,
   "id": "ad62d8de",
   "metadata": {},
   "outputs": [
    {
     "ename": "SyntaxError",
     "evalue": "invalid syntax (3315392636.py, line 12)",
     "output_type": "error",
     "traceback": [
      "\u001b[0;36m  File \u001b[0;32m\"/tmp/ipykernel_38620/3315392636.py\"\u001b[0;36m, line \u001b[0;32m12\u001b[0m\n\u001b[0;31m    __tabela = [] def __init__(self, colunas, valores): table = {} for index in range(len(colunas)): table.update({colunas[index]: valores[index]}) self.__tabela = table def mostrar(self): print(self.__tabela) def get(self): return self.__tabela; tabela = Tabela([\"Coluna 1\", \"Coluna 2\"], [[18,58], [15,22]]); pd.DataFrame(data=tabela.get())\u001b[0m\n\u001b[0m                  ^\u001b[0m\n\u001b[0;31mSyntaxError\u001b[0m\u001b[0;31m:\u001b[0m invalid syntax\n"
     ]
    }
   ],
   "source": [
    "import pandas as pd \n",
    "import numpy as np \n",
    "class Person: \n",
    "    __name = \"\" \n",
    "    __age = 0 \n",
    "    def __init__(self, name, age): \n",
    "        self.__name = name \n",
    "        self.__age = age \n",
    "    def toString(self): \n",
    "        return f\"Nome: {self.__name}, idade: {self.__age}\" \n",
    "    class Tabela: \n",
    "        __tabela = [] def __init__(self, colunas, valores): table = {} for index in range(len(colunas)): table.update({colunas[index]: valores[index]}) self.__tabela = table def mostrar(self): print(self.__tabela) def get(self): return self.__tabela; tabela = Tabela([\"Coluna 1\", \"Coluna 2\"], [[18,58], [15,22]]); pd.DataFrame(data=tabela.get()) "
   ]
  }
 ],
 "metadata": {
  "kernelspec": {
   "display_name": "Python 3 (ipykernel)",
   "language": "python",
   "name": "python3"
  },
  "language_info": {
   "codemirror_mode": {
    "name": "ipython",
    "version": 3
   },
   "file_extension": ".py",
   "mimetype": "text/x-python",
   "name": "python",
   "nbconvert_exporter": "python",
   "pygments_lexer": "ipython3",
   "version": "3.8.10"
  }
 },
 "nbformat": 4,
 "nbformat_minor": 5
}
