{
 "cells": [
  {
   "cell_type": "markdown",
   "id": "205c71aa",
   "metadata": {},
   "source": [
    "# Estruturas de dados"
   ]
  },
  {
   "cell_type": "markdown",
   "id": "9ade21a0",
   "metadata": {},
   "source": [
    "## Tuplas"
   ]
  },
  {
   "cell_type": "code",
   "execution_count": 5,
   "id": "7f0f2330",
   "metadata": {},
   "outputs": [],
   "source": [
    "tupla_a = (4, 5, 6)"
   ]
  },
  {
   "cell_type": "code",
   "execution_count": 16,
   "id": "d50a1815",
   "metadata": {},
   "outputs": [],
   "source": [
    "tupla_b = 4, 5, 6"
   ]
  },
  {
   "cell_type": "code",
   "execution_count": 34,
   "id": "ba183f8b",
   "metadata": {},
   "outputs": [
    {
     "data": {
      "text/plain": [
       "(4, 5, 6)"
      ]
     },
     "execution_count": 34,
     "metadata": {},
     "output_type": "execute_result"
    }
   ],
   "source": [
    "tupla_a"
   ]
  },
  {
   "cell_type": "code",
   "execution_count": 35,
   "id": "4a9b6932",
   "metadata": {},
   "outputs": [
    {
     "data": {
      "text/plain": [
       "(4, 5, 6)"
      ]
     },
     "execution_count": 35,
     "metadata": {},
     "output_type": "execute_result"
    }
   ],
   "source": [
    "tupla_b"
   ]
  },
  {
   "cell_type": "code",
   "execution_count": 36,
   "id": "350d39ec",
   "metadata": {},
   "outputs": [
    {
     "data": {
      "text/plain": [
       "True"
      ]
     },
     "execution_count": 36,
     "metadata": {},
     "output_type": "execute_result"
    }
   ],
   "source": [
    "tupla_a == tupla_b"
   ]
  },
  {
   "cell_type": "code",
   "execution_count": 12,
   "id": "4475c0f7",
   "metadata": {},
   "outputs": [
    {
     "data": {
      "text/plain": [
       "(4, 5, 6, 4)"
      ]
     },
     "execution_count": 12,
     "metadata": {},
     "output_type": "execute_result"
    }
   ],
   "source": [
    "tupla_b + (4, )"
   ]
  },
  {
   "cell_type": "code",
   "execution_count": 38,
   "id": "40030557",
   "metadata": {},
   "outputs": [
    {
     "data": {
      "text/plain": [
       "False"
      ]
     },
     "execution_count": 38,
     "metadata": {},
     "output_type": "execute_result"
    }
   ],
   "source": [
    "tupla_b < tupla_a"
   ]
  },
  {
   "cell_type": "code",
   "execution_count": 18,
   "id": "779a40d7",
   "metadata": {},
   "outputs": [
    {
     "data": {
      "text/plain": [
       "5"
      ]
     },
     "execution_count": 18,
     "metadata": {},
     "output_type": "execute_result"
    }
   ],
   "source": [
    "tupla_b[1]"
   ]
  },
  {
   "cell_type": "code",
   "execution_count": 19,
   "id": "696d0c11",
   "metadata": {},
   "outputs": [
    {
     "ename": "TypeError",
     "evalue": "'tuple' object does not support item assignment",
     "output_type": "error",
     "traceback": [
      "\u001b[0;31m---------------------------------------------------------------------------\u001b[0m",
      "\u001b[0;31mTypeError\u001b[0m                                 Traceback (most recent call last)",
      "\u001b[0;32m/tmp/ipykernel_27960/1288836854.py\u001b[0m in \u001b[0;36m<module>\u001b[0;34m\u001b[0m\n\u001b[0;32m----> 1\u001b[0;31m \u001b[0mtupla_b\u001b[0m\u001b[0;34m[\u001b[0m\u001b[0;36m1\u001b[0m\u001b[0;34m]\u001b[0m \u001b[0;34m=\u001b[0m \u001b[0;36m8\u001b[0m\u001b[0;34m\u001b[0m\u001b[0;34m\u001b[0m\u001b[0m\n\u001b[0m",
      "\u001b[0;31mTypeError\u001b[0m: 'tuple' object does not support item assignment"
     ]
    }
   ],
   "source": [
    "tupla_b[1] = 8"
   ]
  },
  {
   "cell_type": "code",
   "execution_count": 20,
   "id": "7f70a4ee",
   "metadata": {},
   "outputs": [],
   "source": [
    "tupla_c = 1, 'palavra', 5.5, 'fim'"
   ]
  },
  {
   "cell_type": "code",
   "execution_count": 21,
   "id": "9c426b2c",
   "metadata": {},
   "outputs": [
    {
     "data": {
      "text/plain": [
       "(1, 'palavra', 5.5, 'fim')"
      ]
     },
     "execution_count": 21,
     "metadata": {},
     "output_type": "execute_result"
    }
   ],
   "source": [
    "tupla_c"
   ]
  },
  {
   "cell_type": "code",
   "execution_count": 22,
   "id": "1ce22584",
   "metadata": {},
   "outputs": [],
   "source": [
    "tupla_d = 1, (1, 2), 'fim'"
   ]
  },
  {
   "cell_type": "code",
   "execution_count": 23,
   "id": "b2b24450",
   "metadata": {},
   "outputs": [],
   "source": [
    "tupla_e = 1, [1, 2], 'fim'"
   ]
  },
  {
   "cell_type": "code",
   "execution_count": 24,
   "id": "061518ac",
   "metadata": {},
   "outputs": [
    {
     "data": {
      "text/plain": [
       "(1, [1, 2], 'fim')"
      ]
     },
     "execution_count": 24,
     "metadata": {},
     "output_type": "execute_result"
    }
   ],
   "source": [
    "tupla_e"
   ]
  },
  {
   "cell_type": "code",
   "execution_count": 25,
   "id": "a701f3b5",
   "metadata": {},
   "outputs": [
    {
     "data": {
      "text/plain": [
       "[1, 2]"
      ]
     },
     "execution_count": 25,
     "metadata": {},
     "output_type": "execute_result"
    }
   ],
   "source": [
    "tupla_e[1]"
   ]
  },
  {
   "cell_type": "code",
   "execution_count": 26,
   "id": "9dbb20ae",
   "metadata": {},
   "outputs": [],
   "source": [
    "tupla_e[1].append(1)"
   ]
  },
  {
   "cell_type": "code",
   "execution_count": 27,
   "id": "bc44e07e",
   "metadata": {},
   "outputs": [
    {
     "data": {
      "text/plain": [
       "(1, [1, 2, 1], 'fim')"
      ]
     },
     "execution_count": 27,
     "metadata": {},
     "output_type": "execute_result"
    }
   ],
   "source": [
    "tupla_e"
   ]
  },
  {
   "cell_type": "code",
   "execution_count": 28,
   "id": "01702919",
   "metadata": {},
   "outputs": [
    {
     "ename": "TypeError",
     "evalue": "'tuple' object does not support item assignment",
     "output_type": "error",
     "traceback": [
      "\u001b[0;31m---------------------------------------------------------------------------\u001b[0m",
      "\u001b[0;31mTypeError\u001b[0m                                 Traceback (most recent call last)",
      "\u001b[0;32m/tmp/ipykernel_27960/2092707168.py\u001b[0m in \u001b[0;36m<module>\u001b[0;34m\u001b[0m\n\u001b[0;32m----> 1\u001b[0;31m \u001b[0mtupla_e\u001b[0m\u001b[0;34m[\u001b[0m\u001b[0;36m1\u001b[0m\u001b[0;34m]\u001b[0m \u001b[0;34m=\u001b[0m \u001b[0;34m'a'\u001b[0m\u001b[0;34m\u001b[0m\u001b[0;34m\u001b[0m\u001b[0m\n\u001b[0m",
      "\u001b[0;31mTypeError\u001b[0m: 'tuple' object does not support item assignment"
     ]
    }
   ],
   "source": [
    "tupla_e[1] = 'a'"
   ]
  },
  {
   "cell_type": "code",
   "execution_count": 29,
   "id": "1ba55612",
   "metadata": {},
   "outputs": [],
   "source": [
    "a = [1,2]"
   ]
  },
  {
   "cell_type": "code",
   "execution_count": 30,
   "id": "d14bd653",
   "metadata": {},
   "outputs": [],
   "source": [
    "b = [1,2]"
   ]
  },
  {
   "cell_type": "code",
   "execution_count": 33,
   "id": "5af9b018",
   "metadata": {},
   "outputs": [
    {
     "data": {
      "text/plain": [
       "False"
      ]
     },
     "execution_count": 33,
     "metadata": {},
     "output_type": "execute_result"
    }
   ],
   "source": [
    "a==b"
   ]
  },
  {
   "cell_type": "code",
   "execution_count": 32,
   "id": "98a9a0b5",
   "metadata": {},
   "outputs": [],
   "source": [
    "b.append(4)"
   ]
  },
  {
   "cell_type": "code",
   "execution_count": 39,
   "id": "1b3764aa",
   "metadata": {},
   "outputs": [],
   "source": [
    "def soma(a, b):\n",
    "    return a+b"
   ]
  },
  {
   "cell_type": "code",
   "execution_count": 40,
   "id": "eab5bce7",
   "metadata": {},
   "outputs": [
    {
     "data": {
      "text/plain": [
       "9"
      ]
     },
     "execution_count": 40,
     "metadata": {},
     "output_type": "execute_result"
    }
   ],
   "source": [
    "soma(4,5)"
   ]
  },
  {
   "cell_type": "code",
   "execution_count": 41,
   "id": "676855f3",
   "metadata": {},
   "outputs": [],
   "source": [
    "tupla = 4,5"
   ]
  },
  {
   "cell_type": "code",
   "execution_count": 43,
   "id": "5d771188",
   "metadata": {},
   "outputs": [
    {
     "data": {
      "text/plain": [
       "9"
      ]
     },
     "execution_count": 43,
     "metadata": {},
     "output_type": "execute_result"
    }
   ],
   "source": [
    "soma(*tupla)"
   ]
  },
  {
   "cell_type": "code",
   "execution_count": 44,
   "id": "33f65843",
   "metadata": {},
   "outputs": [],
   "source": [
    "lista = [4,5]"
   ]
  },
  {
   "cell_type": "code",
   "execution_count": 45,
   "id": "fe343d59",
   "metadata": {},
   "outputs": [
    {
     "data": {
      "text/plain": [
       "9"
      ]
     },
     "execution_count": 45,
     "metadata": {},
     "output_type": "execute_result"
    }
   ],
   "source": [
    "soma(*lista)"
   ]
  },
  {
   "cell_type": "code",
   "execution_count": 46,
   "id": "4a069b5b",
   "metadata": {},
   "outputs": [],
   "source": [
    "tupla = 2,3,4"
   ]
  },
  {
   "cell_type": "code",
   "execution_count": 47,
   "id": "7294c0e4",
   "metadata": {},
   "outputs": [
    {
     "ename": "TypeError",
     "evalue": "soma() takes 2 positional arguments but 3 were given",
     "output_type": "error",
     "traceback": [
      "\u001b[0;31m---------------------------------------------------------------------------\u001b[0m",
      "\u001b[0;31mTypeError\u001b[0m                                 Traceback (most recent call last)",
      "\u001b[0;32m/tmp/ipykernel_27960/3802193961.py\u001b[0m in \u001b[0;36m<module>\u001b[0;34m\u001b[0m\n\u001b[0;32m----> 1\u001b[0;31m \u001b[0msoma\u001b[0m\u001b[0;34m(\u001b[0m\u001b[0;34m*\u001b[0m\u001b[0mtupla\u001b[0m\u001b[0;34m)\u001b[0m\u001b[0;34m\u001b[0m\u001b[0;34m\u001b[0m\u001b[0m\n\u001b[0m",
      "\u001b[0;31mTypeError\u001b[0m: soma() takes 2 positional arguments but 3 were given"
     ]
    }
   ],
   "source": [
    "soma(*tupla)"
   ]
  },
  {
   "cell_type": "code",
   "execution_count": 48,
   "id": "c5d2cfca",
   "metadata": {},
   "outputs": [
    {
     "data": {
      "text/plain": [
       "[4, 5]"
      ]
     },
     "execution_count": 48,
     "metadata": {},
     "output_type": "execute_result"
    }
   ],
   "source": [
    "lista"
   ]
  },
  {
   "cell_type": "code",
   "execution_count": 50,
   "id": "c37e6e96",
   "metadata": {},
   "outputs": [
    {
     "data": {
      "text/plain": [
       "(4, 5)"
      ]
     },
     "execution_count": 50,
     "metadata": {},
     "output_type": "execute_result"
    }
   ],
   "source": [
    "tuple(lista)"
   ]
  },
  {
   "cell_type": "code",
   "execution_count": 51,
   "id": "d344b47d",
   "metadata": {},
   "outputs": [
    {
     "data": {
      "text/plain": [
       "('p', 'a', 'l', 'a', 'v', 'r', 'a')"
      ]
     },
     "execution_count": 51,
     "metadata": {},
     "output_type": "execute_result"
    }
   ],
   "source": [
    "tuple('palavra')"
   ]
  },
  {
   "cell_type": "code",
   "execution_count": 52,
   "id": "a7b5033c",
   "metadata": {},
   "outputs": [
    {
     "data": {
      "text/plain": [
       "('foo', 'bar', 'foo', 'bar', 'foo', 'bar', 'foo', 'bar')"
      ]
     },
     "execution_count": 52,
     "metadata": {},
     "output_type": "execute_result"
    }
   ],
   "source": [
    "('foo', 'bar') * 4"
   ]
  },
  {
   "cell_type": "code",
   "execution_count": 54,
   "id": "c571daaa",
   "metadata": {},
   "outputs": [
    {
     "data": {
      "text/plain": [
       "[4, 5, 4, 5, 4, 5, 4, 5]"
      ]
     },
     "execution_count": 54,
     "metadata": {},
     "output_type": "execute_result"
    }
   ],
   "source": [
    "lista*4"
   ]
  },
  {
   "cell_type": "code",
   "execution_count": 56,
   "id": "9819daa7",
   "metadata": {},
   "outputs": [
    {
     "data": {
      "text/plain": [
       "'palavra palavra palavra palavra '"
      ]
     },
     "execution_count": 56,
     "metadata": {},
     "output_type": "execute_result"
    }
   ],
   "source": [
    "'palavra ' * 4"
   ]
  },
  {
   "cell_type": "code",
   "execution_count": 57,
   "id": "a47276af",
   "metadata": {},
   "outputs": [],
   "source": [
    "tupla = (4,5,6)"
   ]
  },
  {
   "cell_type": "code",
   "execution_count": 58,
   "id": "3dc007ed",
   "metadata": {},
   "outputs": [],
   "source": [
    "a, b, c = tupla"
   ]
  },
  {
   "cell_type": "code",
   "execution_count": 59,
   "id": "61e7f83e",
   "metadata": {},
   "outputs": [
    {
     "data": {
      "text/plain": [
       "4"
      ]
     },
     "execution_count": 59,
     "metadata": {},
     "output_type": "execute_result"
    }
   ],
   "source": [
    "a"
   ]
  },
  {
   "cell_type": "code",
   "execution_count": 60,
   "id": "b229111a",
   "metadata": {},
   "outputs": [
    {
     "data": {
      "text/plain": [
       "5"
      ]
     },
     "execution_count": 60,
     "metadata": {},
     "output_type": "execute_result"
    }
   ],
   "source": [
    "b"
   ]
  },
  {
   "cell_type": "code",
   "execution_count": 61,
   "id": "b9a60f31",
   "metadata": {},
   "outputs": [
    {
     "data": {
      "text/plain": [
       "6"
      ]
     },
     "execution_count": 61,
     "metadata": {},
     "output_type": "execute_result"
    }
   ],
   "source": [
    "c"
   ]
  },
  {
   "cell_type": "code",
   "execution_count": 62,
   "id": "66e65b69",
   "metadata": {},
   "outputs": [],
   "source": [
    "valores = 1,2,3,4,5"
   ]
  },
  {
   "cell_type": "code",
   "execution_count": 63,
   "id": "8199b81f",
   "metadata": {},
   "outputs": [],
   "source": [
    "a, b, *resto = valores"
   ]
  },
  {
   "cell_type": "code",
   "execution_count": 64,
   "id": "f94a2f9f",
   "metadata": {},
   "outputs": [
    {
     "data": {
      "text/plain": [
       "1"
      ]
     },
     "execution_count": 64,
     "metadata": {},
     "output_type": "execute_result"
    }
   ],
   "source": [
    "a"
   ]
  },
  {
   "cell_type": "code",
   "execution_count": 65,
   "id": "cb2b70f0",
   "metadata": {},
   "outputs": [
    {
     "data": {
      "text/plain": [
       "2"
      ]
     },
     "execution_count": 65,
     "metadata": {},
     "output_type": "execute_result"
    }
   ],
   "source": [
    "b"
   ]
  },
  {
   "cell_type": "code",
   "execution_count": 66,
   "id": "8130c10c",
   "metadata": {},
   "outputs": [
    {
     "data": {
      "text/plain": [
       "[3, 4, 5]"
      ]
     },
     "execution_count": 66,
     "metadata": {},
     "output_type": "execute_result"
    }
   ],
   "source": [
    "resto"
   ]
  },
  {
   "cell_type": "code",
   "execution_count": 68,
   "id": "9076cb91",
   "metadata": {},
   "outputs": [
    {
     "data": {
      "text/plain": [
       "1"
      ]
     },
     "execution_count": 68,
     "metadata": {},
     "output_type": "execute_result"
    }
   ],
   "source": [
    "valores.count(3)"
   ]
  },
  {
   "cell_type": "markdown",
   "id": "615585f1",
   "metadata": {},
   "source": [
    "## Listas"
   ]
  },
  {
   "cell_type": "code",
   "execution_count": 69,
   "id": "d441bdde",
   "metadata": {},
   "outputs": [],
   "source": [
    "lista = [2,3,7,None]"
   ]
  },
  {
   "cell_type": "code",
   "execution_count": 70,
   "id": "d84740db",
   "metadata": {},
   "outputs": [],
   "source": [
    "lista[0] = 'barr'"
   ]
  },
  {
   "cell_type": "code",
   "execution_count": 71,
   "id": "5c20a78c",
   "metadata": {},
   "outputs": [
    {
     "data": {
      "text/plain": [
       "['barr', 3, 7, None]"
      ]
     },
     "execution_count": 71,
     "metadata": {},
     "output_type": "execute_result"
    }
   ],
   "source": [
    "lista"
   ]
  },
  {
   "cell_type": "code",
   "execution_count": 72,
   "id": "3e988672",
   "metadata": {},
   "outputs": [],
   "source": [
    "gen = range(10)"
   ]
  },
  {
   "cell_type": "code",
   "execution_count": 73,
   "id": "664d9071",
   "metadata": {},
   "outputs": [
    {
     "data": {
      "text/plain": [
       "range(0, 10)"
      ]
     },
     "execution_count": 73,
     "metadata": {},
     "output_type": "execute_result"
    }
   ],
   "source": [
    "gen"
   ]
  },
  {
   "cell_type": "code",
   "execution_count": 74,
   "id": "d846098a",
   "metadata": {},
   "outputs": [
    {
     "data": {
      "text/plain": [
       "[0, 1, 2, 3, 4, 5, 6, 7, 8, 9]"
      ]
     },
     "execution_count": 74,
     "metadata": {},
     "output_type": "execute_result"
    }
   ],
   "source": [
    "list(gen)"
   ]
  },
  {
   "cell_type": "code",
   "execution_count": 75,
   "id": "4059333e",
   "metadata": {},
   "outputs": [
    {
     "name": "stdout",
     "output_type": "stream",
     "text": [
      "0\n",
      "1\n",
      "2\n",
      "3\n",
      "4\n",
      "5\n",
      "6\n",
      "7\n",
      "8\n",
      "9\n"
     ]
    }
   ],
   "source": [
    "for i in gen:\n",
    "    print(i)"
   ]
  },
  {
   "cell_type": "code",
   "execution_count": 76,
   "id": "c6982a8b",
   "metadata": {},
   "outputs": [
    {
     "data": {
      "text/plain": [
       "['barr', 3, 7, None]"
      ]
     },
     "execution_count": 76,
     "metadata": {},
     "output_type": "execute_result"
    }
   ],
   "source": [
    "lista"
   ]
  },
  {
   "cell_type": "code",
   "execution_count": 77,
   "id": "cec14465",
   "metadata": {},
   "outputs": [],
   "source": [
    "lista.append('nao')"
   ]
  },
  {
   "cell_type": "code",
   "execution_count": 78,
   "id": "6c6f3767",
   "metadata": {},
   "outputs": [
    {
     "data": {
      "text/plain": [
       "['barr', 3, 7, None, 'nao']"
      ]
     },
     "execution_count": 78,
     "metadata": {},
     "output_type": "execute_result"
    }
   ],
   "source": [
    "lista"
   ]
  },
  {
   "cell_type": "code",
   "execution_count": 80,
   "id": "6e9ee935",
   "metadata": {},
   "outputs": [],
   "source": [
    "lista.insert(1, True)"
   ]
  },
  {
   "cell_type": "code",
   "execution_count": 81,
   "id": "99467d0f",
   "metadata": {},
   "outputs": [
    {
     "data": {
      "text/plain": [
       "['barr', True, 3, 7, None, 'nao']"
      ]
     },
     "execution_count": 81,
     "metadata": {},
     "output_type": "execute_result"
    }
   ],
   "source": [
    "lista"
   ]
  },
  {
   "cell_type": "code",
   "execution_count": 82,
   "id": "e2a19945",
   "metadata": {},
   "outputs": [
    {
     "data": {
      "text/plain": [
       "3"
      ]
     },
     "execution_count": 82,
     "metadata": {},
     "output_type": "execute_result"
    }
   ],
   "source": [
    "lista.pop(2)"
   ]
  },
  {
   "cell_type": "code",
   "execution_count": 83,
   "id": "0a92f0e2",
   "metadata": {},
   "outputs": [
    {
     "data": {
      "text/plain": [
       "['barr', True, 7, None, 'nao']"
      ]
     },
     "execution_count": 83,
     "metadata": {},
     "output_type": "execute_result"
    }
   ],
   "source": [
    "lista"
   ]
  },
  {
   "cell_type": "code",
   "execution_count": 84,
   "id": "ecc7e276",
   "metadata": {},
   "outputs": [],
   "source": [
    "lista.append('barr')"
   ]
  },
  {
   "cell_type": "code",
   "execution_count": 85,
   "id": "9426c0f3",
   "metadata": {},
   "outputs": [
    {
     "data": {
      "text/plain": [
       "['barr', True, 7, None, 'nao', 'barr']"
      ]
     },
     "execution_count": 85,
     "metadata": {},
     "output_type": "execute_result"
    }
   ],
   "source": [
    "lista"
   ]
  },
  {
   "cell_type": "code",
   "execution_count": 86,
   "id": "aedf0132",
   "metadata": {},
   "outputs": [],
   "source": [
    "lista.remove('barr')"
   ]
  },
  {
   "cell_type": "code",
   "execution_count": 87,
   "id": "7533db7d",
   "metadata": {},
   "outputs": [
    {
     "data": {
      "text/plain": [
       "[True, 7, None, 'nao', 'barr']"
      ]
     },
     "execution_count": 87,
     "metadata": {},
     "output_type": "execute_result"
    }
   ],
   "source": [
    "lista"
   ]
  },
  {
   "cell_type": "code",
   "execution_count": 88,
   "id": "38122db7",
   "metadata": {},
   "outputs": [
    {
     "data": {
      "text/plain": [
       "True"
      ]
     },
     "execution_count": 88,
     "metadata": {},
     "output_type": "execute_result"
    }
   ],
   "source": [
    "7 in lista"
   ]
  },
  {
   "cell_type": "code",
   "execution_count": 89,
   "id": "94066f7f",
   "metadata": {},
   "outputs": [
    {
     "data": {
      "text/plain": [
       "False"
      ]
     },
     "execution_count": 89,
     "metadata": {},
     "output_type": "execute_result"
    }
   ],
   "source": [
    "7 not in lista"
   ]
  },
  {
   "cell_type": "code",
   "execution_count": 90,
   "id": "53a88935",
   "metadata": {},
   "outputs": [
    {
     "data": {
      "text/plain": [
       "True"
      ]
     },
     "execution_count": 90,
     "metadata": {},
     "output_type": "execute_result"
    }
   ],
   "source": [
    "8 not in lista"
   ]
  },
  {
   "cell_type": "code",
   "execution_count": 91,
   "id": "0cbcef77",
   "metadata": {},
   "outputs": [],
   "source": [
    "lista_2 = [7, None]"
   ]
  },
  {
   "cell_type": "code",
   "execution_count": 92,
   "id": "9f7f5d26",
   "metadata": {},
   "outputs": [
    {
     "data": {
      "text/plain": [
       "[True, 7, None, 'nao', 'barr', 7, None]"
      ]
     },
     "execution_count": 92,
     "metadata": {},
     "output_type": "execute_result"
    }
   ],
   "source": [
    "lista + lista_2"
   ]
  },
  {
   "cell_type": "code",
   "execution_count": 93,
   "id": "a1cad47d",
   "metadata": {},
   "outputs": [
    {
     "data": {
      "text/plain": [
       "[True, 7, None, 'nao', 'barr']"
      ]
     },
     "execution_count": 93,
     "metadata": {},
     "output_type": "execute_result"
    }
   ],
   "source": [
    "lista"
   ]
  },
  {
   "cell_type": "code",
   "execution_count": 94,
   "id": "b5099f97",
   "metadata": {},
   "outputs": [],
   "source": [
    "lista.extend(lista_2)"
   ]
  },
  {
   "cell_type": "code",
   "execution_count": 95,
   "id": "19fefdc9",
   "metadata": {},
   "outputs": [
    {
     "data": {
      "text/plain": [
       "[True, 7, None, 'nao', 'barr', 7, None]"
      ]
     },
     "execution_count": 95,
     "metadata": {},
     "output_type": "execute_result"
    }
   ],
   "source": [
    "lista"
   ]
  },
  {
   "cell_type": "code",
   "execution_count": 96,
   "id": "c01c4417",
   "metadata": {},
   "outputs": [],
   "source": [
    "lista_3 = lista + lista_2"
   ]
  },
  {
   "cell_type": "code",
   "execution_count": 97,
   "id": "56ea6826",
   "metadata": {},
   "outputs": [
    {
     "data": {
      "text/plain": [
       "[True, 7, None, 'nao', 'barr', 7, None]"
      ]
     },
     "execution_count": 97,
     "metadata": {},
     "output_type": "execute_result"
    }
   ],
   "source": [
    "lista"
   ]
  },
  {
   "cell_type": "code",
   "execution_count": 98,
   "id": "a2691b7b",
   "metadata": {},
   "outputs": [
    {
     "data": {
      "text/plain": [
       "[7, None]"
      ]
     },
     "execution_count": 98,
     "metadata": {},
     "output_type": "execute_result"
    }
   ],
   "source": [
    "lista_2"
   ]
  },
  {
   "cell_type": "code",
   "execution_count": 99,
   "id": "ced1ac60",
   "metadata": {},
   "outputs": [
    {
     "data": {
      "text/plain": [
       "[True, 7, None, 'nao', 'barr', 7, None, 7, None]"
      ]
     },
     "execution_count": 99,
     "metadata": {},
     "output_type": "execute_result"
    }
   ],
   "source": [
    "lista_3"
   ]
  },
  {
   "cell_type": "code",
   "execution_count": 100,
   "id": "d6eeb2c5",
   "metadata": {},
   "outputs": [],
   "source": [
    "lista_3[0] = False"
   ]
  },
  {
   "cell_type": "code",
   "execution_count": 101,
   "id": "a1a85ca7",
   "metadata": {},
   "outputs": [
    {
     "data": {
      "text/plain": [
       "[False, 7, None, 'nao', 'barr', 7, None, 7, None]"
      ]
     },
     "execution_count": 101,
     "metadata": {},
     "output_type": "execute_result"
    }
   ],
   "source": [
    "lista_3"
   ]
  },
  {
   "cell_type": "code",
   "execution_count": 102,
   "id": "cc9a0211",
   "metadata": {},
   "outputs": [
    {
     "data": {
      "text/plain": [
       "[True, 7, None, 'nao', 'barr', 7, None]"
      ]
     },
     "execution_count": 102,
     "metadata": {},
     "output_type": "execute_result"
    }
   ],
   "source": [
    "lista"
   ]
  },
  {
   "cell_type": "code",
   "execution_count": 103,
   "id": "8e04b6de",
   "metadata": {},
   "outputs": [],
   "source": [
    "lista = [1,2,3]\n",
    "lista_2 = [4,5,6]"
   ]
  },
  {
   "cell_type": "code",
   "execution_count": 104,
   "id": "4e63f676",
   "metadata": {},
   "outputs": [
    {
     "data": {
      "text/plain": [
       "[1, 2, 3, 4, 5, 6]"
      ]
     },
     "execution_count": 104,
     "metadata": {},
     "output_type": "execute_result"
    }
   ],
   "source": [
    "lista + lista_2"
   ]
  },
  {
   "cell_type": "code",
   "execution_count": 105,
   "id": "606a56e2",
   "metadata": {},
   "outputs": [],
   "source": [
    "lista = lista + lista_2"
   ]
  },
  {
   "cell_type": "code",
   "execution_count": 106,
   "id": "ec4b315f",
   "metadata": {},
   "outputs": [
    {
     "data": {
      "text/plain": [
       "[1, 2, 3, 4, 5, 6]"
      ]
     },
     "execution_count": 106,
     "metadata": {},
     "output_type": "execute_result"
    }
   ],
   "source": [
    "lista"
   ]
  },
  {
   "cell_type": "code",
   "execution_count": 107,
   "id": "118acc7c",
   "metadata": {},
   "outputs": [],
   "source": [
    "lista = ['zero', 'clarice', 'ana', 'beto']"
   ]
  },
  {
   "cell_type": "code",
   "execution_count": 108,
   "id": "be39bfd8",
   "metadata": {},
   "outputs": [],
   "source": [
    "lista.sort()"
   ]
  },
  {
   "cell_type": "code",
   "execution_count": 109,
   "id": "870b315a",
   "metadata": {},
   "outputs": [
    {
     "data": {
      "text/plain": [
       "['ana', 'beto', 'clarice', 'zero']"
      ]
     },
     "execution_count": 109,
     "metadata": {},
     "output_type": "execute_result"
    }
   ],
   "source": [
    "lista"
   ]
  },
  {
   "cell_type": "code",
   "execution_count": 111,
   "id": "f018d97b",
   "metadata": {},
   "outputs": [
    {
     "data": {
      "text/plain": [
       "5"
      ]
     },
     "execution_count": 111,
     "metadata": {},
     "output_type": "execute_result"
    }
   ],
   "source": [
    "len('lista')"
   ]
  },
  {
   "cell_type": "code",
   "execution_count": 112,
   "id": "bcc7b150",
   "metadata": {},
   "outputs": [],
   "source": [
    "lista.sort(key=len)"
   ]
  },
  {
   "cell_type": "code",
   "execution_count": 113,
   "id": "bc38b026",
   "metadata": {},
   "outputs": [
    {
     "data": {
      "text/plain": [
       "['ana', 'beto', 'zero', 'clarice']"
      ]
     },
     "execution_count": 113,
     "metadata": {},
     "output_type": "execute_result"
    }
   ],
   "source": [
    "lista"
   ]
  },
  {
   "cell_type": "code",
   "execution_count": 115,
   "id": "64be8ea1",
   "metadata": {},
   "outputs": [
    {
     "data": {
      "text/plain": [
       "'ana'"
      ]
     },
     "execution_count": 115,
     "metadata": {},
     "output_type": "execute_result"
    }
   ],
   "source": [
    "lista[0]"
   ]
  },
  {
   "cell_type": "code",
   "execution_count": 116,
   "id": "fc0a0937",
   "metadata": {},
   "outputs": [],
   "source": [
    "lista.extend(['duda', 'ellen'])"
   ]
  },
  {
   "cell_type": "code",
   "execution_count": 117,
   "id": "6a722173",
   "metadata": {},
   "outputs": [
    {
     "data": {
      "text/plain": [
       "['ana', 'beto', 'zero', 'clarice', 'duda', 'ellen']"
      ]
     },
     "execution_count": 117,
     "metadata": {},
     "output_type": "execute_result"
    }
   ],
   "source": [
    "lista"
   ]
  },
  {
   "cell_type": "code",
   "execution_count": 118,
   "id": "4791e62e",
   "metadata": {},
   "outputs": [
    {
     "data": {
      "text/plain": [
       "['beto', 'zero', 'clarice']"
      ]
     },
     "execution_count": 118,
     "metadata": {},
     "output_type": "execute_result"
    }
   ],
   "source": [
    "lista[1:4]"
   ]
  },
  {
   "cell_type": "code",
   "execution_count": 119,
   "id": "c6d47e37",
   "metadata": {},
   "outputs": [
    {
     "data": {
      "text/plain": [
       "['ana', 'beto', 'zero', 'clarice']"
      ]
     },
     "execution_count": 119,
     "metadata": {},
     "output_type": "execute_result"
    }
   ],
   "source": [
    "lista[:4]"
   ]
  },
  {
   "cell_type": "code",
   "execution_count": 120,
   "id": "66cb50d8",
   "metadata": {},
   "outputs": [
    {
     "data": {
      "text/plain": [
       "['clarice', 'duda', 'ellen']"
      ]
     },
     "execution_count": 120,
     "metadata": {},
     "output_type": "execute_result"
    }
   ],
   "source": [
    "lista[3:]"
   ]
  },
  {
   "cell_type": "code",
   "execution_count": 121,
   "id": "ca1034e7",
   "metadata": {},
   "outputs": [
    {
     "data": {
      "text/plain": [
       "'duda'"
      ]
     },
     "execution_count": 121,
     "metadata": {},
     "output_type": "execute_result"
    }
   ],
   "source": [
    "lista[-2]"
   ]
  },
  {
   "cell_type": "code",
   "execution_count": 122,
   "id": "885a4622",
   "metadata": {},
   "outputs": [
    {
     "data": {
      "text/plain": [
       "['beto', 'zero', 'clarice']"
      ]
     },
     "execution_count": 122,
     "metadata": {},
     "output_type": "execute_result"
    }
   ],
   "source": [
    "lista[1:-2]"
   ]
  },
  {
   "cell_type": "code",
   "execution_count": 123,
   "id": "63887b55",
   "metadata": {},
   "outputs": [
    {
     "data": {
      "text/plain": [
       "['duda', 'ellen']"
      ]
     },
     "execution_count": 123,
     "metadata": {},
     "output_type": "execute_result"
    }
   ],
   "source": [
    "lista[-2:]"
   ]
  },
  {
   "cell_type": "code",
   "execution_count": 124,
   "id": "e080c685",
   "metadata": {},
   "outputs": [
    {
     "data": {
      "text/plain": [
       "['beto', 'clarice']"
      ]
     },
     "execution_count": 124,
     "metadata": {},
     "output_type": "execute_result"
    }
   ],
   "source": [
    "lista[1:5:2]"
   ]
  },
  {
   "cell_type": "code",
   "execution_count": 125,
   "id": "9904b9a5",
   "metadata": {},
   "outputs": [
    {
     "data": {
      "text/plain": [
       "['ellen', 'duda', 'clarice', 'zero', 'beto', 'ana']"
      ]
     },
     "execution_count": 125,
     "metadata": {},
     "output_type": "execute_result"
    }
   ],
   "source": [
    "lista[::-1]"
   ]
  },
  {
   "cell_type": "code",
   "execution_count": 126,
   "id": "1981fc30",
   "metadata": {},
   "outputs": [],
   "source": [
    "lista = [[1, 2], [3, 4], [5, 6]]"
   ]
  },
  {
   "cell_type": "code",
   "execution_count": 127,
   "id": "f4a32ff0",
   "metadata": {},
   "outputs": [
    {
     "name": "stdout",
     "output_type": "stream",
     "text": [
      "[1, 2]\n",
      "[3, 4]\n",
      "[5, 6]\n"
     ]
    }
   ],
   "source": [
    "for e in lista:\n",
    "    print(e)"
   ]
  },
  {
   "cell_type": "code",
   "execution_count": 130,
   "id": "815ec619",
   "metadata": {},
   "outputs": [
    {
     "name": "stdout",
     "output_type": "stream",
     "text": [
      "elemento 1 - 1\n",
      "elemento 2 - 2\n",
      "\n",
      "elemento 1 - 3\n",
      "elemento 2 - 4\n",
      "\n",
      "elemento 1 - 5\n",
      "elemento 2 - 6\n",
      "\n"
     ]
    }
   ],
   "source": [
    "for e1, e2 in lista:\n",
    "    print(f'elemento 1 - {e1}')    \n",
    "    print(f'elemento 2 - {e2}')\n",
    "    print()"
   ]
  },
  {
   "cell_type": "code",
   "execution_count": 134,
   "id": "d2b7b0c5",
   "metadata": {},
   "outputs": [],
   "source": [
    "lista = ['ellen', 'duda', 'clarice', 'zero', 'beto', 'ana', 14]"
   ]
  },
  {
   "cell_type": "code",
   "execution_count": 144,
   "id": "c985e7c9",
   "metadata": {},
   "outputs": [
    {
     "name": "stdout",
     "output_type": "stream",
     "text": [
      "nome:      ellen\n",
      "nome:       duda\n",
      "nome:    clarice\n",
      "nome:       zero\n",
      "nome:       beto\n",
      "nome:        ana\n",
      "nome:         14\n"
     ]
    }
   ],
   "source": [
    "for nome in lista:\n",
    "    print(f'nome: {nome:>10}')"
   ]
  },
  {
   "cell_type": "code",
   "execution_count": 147,
   "id": "e28e874c",
   "metadata": {},
   "outputs": [
    {
     "name": "stdout",
     "output_type": "stream",
     "text": [
      " 0 posicao: ellen\n",
      " 1 posicao: duda\n",
      " 2 posicao: clarice\n",
      " 3 posicao: zero\n",
      " 4 posicao: beto\n",
      " 5 posicao: ana\n",
      " 6 posicao: 14\n"
     ]
    }
   ],
   "source": [
    "for i, nome in enumerate(lista):\n",
    "    print(f'{i:>2} posicao: {nome}')\n",
    "    \n",
    "    "
   ]
  },
  {
   "cell_type": "code",
   "execution_count": 148,
   "id": "1f5d6ba4",
   "metadata": {},
   "outputs": [
    {
     "name": "stdout",
     "output_type": "stream",
     "text": [
      " 0 posicao: ellen\n",
      " 1 posicao: duda\n",
      " 2 posicao: clarice\n",
      " 3 posicao: zero\n",
      " 4 posicao: beto\n",
      " 5 posicao: ana\n",
      " 6 posicao: 14\n"
     ]
    }
   ],
   "source": [
    "for i in range(len(lista)):\n",
    "    nome = lista[i]\n",
    "    print(f'{i:>2} posicao: {nome}')\n"
   ]
  },
  {
   "cell_type": "markdown",
   "id": "0e8d714f",
   "metadata": {},
   "source": [
    "## Dict"
   ]
  },
  {
   "cell_type": "code",
   "execution_count": 149,
   "id": "22e8931b",
   "metadata": {},
   "outputs": [],
   "source": [
    "dicionario_vazio = {}"
   ]
  },
  {
   "cell_type": "code",
   "execution_count": 151,
   "id": "9d11b4d7",
   "metadata": {},
   "outputs": [],
   "source": [
    "d1 = {\n",
    "    'a': 'algum valor', \n",
    "    'b': [1, 2, 3, ], \n",
    "}"
   ]
  },
  {
   "cell_type": "code",
   "execution_count": 152,
   "id": "b2216939",
   "metadata": {},
   "outputs": [
    {
     "data": {
      "text/plain": [
       "{'a': 'algum valor', 'b': [1, 2, 3]}"
      ]
     },
     "execution_count": 152,
     "metadata": {},
     "output_type": "execute_result"
    }
   ],
   "source": [
    "d1"
   ]
  },
  {
   "cell_type": "code",
   "execution_count": 155,
   "id": "b582b20b",
   "metadata": {},
   "outputs": [],
   "source": [
    "d1['c'] = 1,2,3"
   ]
  },
  {
   "cell_type": "code",
   "execution_count": 156,
   "id": "ed068709",
   "metadata": {},
   "outputs": [
    {
     "data": {
      "text/plain": [
       "{'a': 'algum valor', 'b': [1, 2, 3], 'c': (1, 2, 3)}"
      ]
     },
     "execution_count": 156,
     "metadata": {},
     "output_type": "execute_result"
    }
   ],
   "source": [
    "d1"
   ]
  },
  {
   "cell_type": "code",
   "execution_count": 157,
   "id": "182b02b4",
   "metadata": {},
   "outputs": [
    {
     "data": {
      "text/plain": [
       "True"
      ]
     },
     "execution_count": 157,
     "metadata": {},
     "output_type": "execute_result"
    }
   ],
   "source": [
    "'b' in d1"
   ]
  },
  {
   "cell_type": "code",
   "execution_count": 158,
   "id": "38a63bab",
   "metadata": {},
   "outputs": [
    {
     "name": "stdout",
     "output_type": "stream",
     "text": [
      "a\n",
      "b\n",
      "c\n"
     ]
    }
   ],
   "source": [
    "for key in d1:\n",
    "    print(key)"
   ]
  },
  {
   "cell_type": "code",
   "execution_count": 160,
   "id": "38c9ae66",
   "metadata": {},
   "outputs": [
    {
     "name": "stdout",
     "output_type": "stream",
     "text": [
      "a: algum valor\n",
      "b: [1, 2, 3]\n",
      "c: (1, 2, 3)\n"
     ]
    }
   ],
   "source": [
    "for key in d1:\n",
    "    value = d1[key]\n",
    "    print(f'{key}: {value}')"
   ]
  },
  {
   "cell_type": "code",
   "execution_count": 161,
   "id": "7d653af8",
   "metadata": {},
   "outputs": [
    {
     "name": "stdout",
     "output_type": "stream",
     "text": [
      "a: algum valor\n",
      "b: [1, 2, 3]\n",
      "c: (1, 2, 3)\n"
     ]
    }
   ],
   "source": [
    "for key, value in d1.items():\n",
    "    print(f'{key}: {value}')"
   ]
  },
  {
   "cell_type": "code",
   "execution_count": 162,
   "id": "eb7223bb",
   "metadata": {},
   "outputs": [
    {
     "data": {
      "text/plain": [
       "['a', 'b', 'c']"
      ]
     },
     "execution_count": 162,
     "metadata": {},
     "output_type": "execute_result"
    }
   ],
   "source": [
    "list(d1.keys())"
   ]
  },
  {
   "cell_type": "code",
   "execution_count": 163,
   "id": "afa3df21",
   "metadata": {},
   "outputs": [
    {
     "data": {
      "text/plain": [
       "['algum valor', [1, 2, 3], (1, 2, 3)]"
      ]
     },
     "execution_count": 163,
     "metadata": {},
     "output_type": "execute_result"
    }
   ],
   "source": [
    "list(d1.values())"
   ]
  },
  {
   "cell_type": "code",
   "execution_count": 164,
   "id": "68597752",
   "metadata": {},
   "outputs": [],
   "source": [
    "d1.update({'d': 'foo', 5: 'bar'})"
   ]
  },
  {
   "cell_type": "code",
   "execution_count": 165,
   "id": "05e9d159",
   "metadata": {},
   "outputs": [
    {
     "data": {
      "text/plain": [
       "{'a': 'algum valor', 'b': [1, 2, 3], 'c': (1, 2, 3), 'd': 'foo', 5: 'bar'}"
      ]
     },
     "execution_count": 165,
     "metadata": {},
     "output_type": "execute_result"
    }
   ],
   "source": [
    "d1"
   ]
  },
  {
   "cell_type": "code",
   "execution_count": 166,
   "id": "e93c8493",
   "metadata": {},
   "outputs": [
    {
     "data": {
      "text/plain": [
       "'algum valor'"
      ]
     },
     "execution_count": 166,
     "metadata": {},
     "output_type": "execute_result"
    }
   ],
   "source": [
    "d1['a']"
   ]
  },
  {
   "cell_type": "code",
   "execution_count": 170,
   "id": "f56ed61b",
   "metadata": {},
   "outputs": [
    {
     "data": {
      "text/plain": [
       "'foo'"
      ]
     },
     "execution_count": 170,
     "metadata": {},
     "output_type": "execute_result"
    }
   ],
   "source": [
    "d1.get('d', False)"
   ]
  },
  {
   "cell_type": "code",
   "execution_count": null,
   "id": "e6e90141",
   "metadata": {},
   "outputs": [],
   "source": []
  },
  {
   "cell_type": "code",
   "execution_count": null,
   "id": "a6045a4e",
   "metadata": {},
   "outputs": [],
   "source": []
  },
  {
   "cell_type": "code",
   "execution_count": null,
   "id": "ad62d8de",
   "metadata": {},
   "outputs": [],
   "source": [
    "import pandas as pd \n",
    "import numpy as np \n",
    "class Person: \n",
    "    __name = \"\" \n",
    "    __age = 0 \n",
    "    def __init__(self, name, age): \n",
    "        self.__name = name \n",
    "        self.__age = age \n",
    "    def toString(self): \n",
    "        return f\"Nome: {self.__name}, idade: {self.__age}\" \n",
    "    class Tabela: \n",
    "        __tabela = [] def __init__(self, colunas, valores): table = {} for index in range(len(colunas)): table.update({colunas[index]: valores[index]}) self.__tabela = table def mostrar(self): print(self.__tabela) def get(self): return self.__tabela; tabela = Tabela([\"Coluna 1\", \"Coluna 2\"], [[18,58], [15,22]]); pd.DataFrame(data=tabela.get()) "
   ]
  }
 ],
 "metadata": {
  "kernelspec": {
   "display_name": "Python 3 (ipykernel)",
   "language": "python",
   "name": "python3"
  },
  "language_info": {
   "codemirror_mode": {
    "name": "ipython",
    "version": 3
   },
   "file_extension": ".py",
   "mimetype": "text/x-python",
   "name": "python",
   "nbconvert_exporter": "python",
   "pygments_lexer": "ipython3",
   "version": "3.8.10"
  }
 },
 "nbformat": 4,
 "nbformat_minor": 5
}
